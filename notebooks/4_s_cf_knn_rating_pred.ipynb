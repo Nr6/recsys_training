{
 "cells": [
  {
   "cell_type": "markdown",
   "metadata": {},
   "source": [
    "# Unit 4: Neighborhood-based Collaborative Filtering for Rating Prediction"
   ]
  },
  {
   "cell_type": "markdown",
   "metadata": {},
   "source": [
    "In this section we generate personalized recommendations for the first time. We exploit rating similarities among users and items to identify similar users and items that assist finding the relevant items to recommend for each user.\n",
    "\n",
    "This describes the fundamental idea behind Collaborative Filtering (CF) and using kNN is a so-called neighborhood-based approach in solving in. In a later unit we will also have a look at model-based approaches for Collaborative Filtering.\n",
    "\n",
    "This is also the first time we try to predict user ratings for unknown items using rating predictions to take the top-$N$ items with the highest rating predictions and recommend those to the user."
   ]
  },
  {
   "cell_type": "code",
   "execution_count": 70,
   "metadata": {},
   "outputs": [
    {
     "name": "stdout",
     "output_type": "stream",
     "text": [
      "The autoreload extension is already loaded. To reload it, use:\n",
      "  %reload_ext autoreload\n"
     ]
    }
   ],
   "source": [
    "%load_ext autoreload\n",
    "%autoreload 2\n",
    "\n",
    "from collections import OrderedDict\n",
    "\n",
    "from typing import Dict, List, Tuple\n",
    "import itertools\n",
    "import os\n",
    "import sys\n",
    "import math\n",
    "\n",
    "import numpy as np\n",
    "import scipy as sp\n",
    "import sklearn\n",
    "\n",
    "import matplotlib.pyplot as plt\n",
    "%matplotlib inline\n",
    "%config InlineBackend.figure_format = 'retina'\n",
    "\n",
    "import seaborn as sns\n",
    "sns.set_context(\"poster\")\n",
    "sns.set(rc={'figure.figsize': (16, 9.)})\n",
    "sns.set_style(\"whitegrid\")\n",
    "\n",
    "import pandas as pd\n",
    "pd.set_option(\"display.max_rows\", 120)\n",
    "pd.set_option(\"display.max_columns\", 120)"
   ]
  },
  {
   "cell_type": "code",
   "execution_count": 42,
   "metadata": {},
   "outputs": [],
   "source": [
    "from recsys_training.data import Dataset\n",
    "from recsys_training.evaluation import get_relevant_items"
   ]
  },
  {
   "cell_type": "code",
   "execution_count": 43,
   "metadata": {},
   "outputs": [],
   "source": [
    "ml100k_ratings_filepath = '../data/raw/ml-100k/u.data'"
   ]
  },
  {
   "cell_type": "markdown",
   "metadata": {},
   "source": [
    "## Load Data"
   ]
  },
  {
   "cell_type": "code",
   "execution_count": 44,
   "metadata": {},
   "outputs": [],
   "source": [
    "data = Dataset(ml100k_ratings_filepath)\n",
    "data.rating_split(seed=42)"
   ]
  },
  {
   "cell_type": "markdown",
   "metadata": {},
   "source": [
    "The idea behind this recommender is to use the item ratings of $k$ most similar users (neighbors) given some similarity metric that is applied to ratings that the root and neighboring users have in common.\n",
    "\n",
    "Thus, the steps are as follows:\n",
    "\n",
    "1. Compute user-user similarities (we use the Pearson Correlation Coefficient here)\n",
    "\n",
    "2. For each user:\n",
    "\n",
    "    1. Get the k nearest neighbors along with their similarities\n",
    "    2. Collect the neighborhood item ratings and ignore those already rated by the root user\n",
    "    3. Item Rating Prediction: Compute the similarity-weighted sum of neighborhood item ratings\n",
    "    4. Recommendations: Get the $N$ items with the highest ratings that have a minimum rating count"
   ]
  },
  {
   "cell_type": "markdown",
   "metadata": {},
   "source": [
    "### User-User Similarities"
   ]
  },
  {
   "cell_type": "code",
   "execution_count": 45,
   "metadata": {},
   "outputs": [],
   "source": [
    "sim_metric = 'pearson'\n",
    "user_ratings = {}\n",
    "user_user_sims = {}"
   ]
  },
  {
   "cell_type": "code",
   "execution_count": 46,
   "metadata": {},
   "outputs": [],
   "source": [
    "def get_entity_sim(a: int, b: int, entity_ratings: Dict[int, float], metric: str = 'pearson'):\n",
    "    \"\"\"\n",
    "    Cosine Similarity\n",
    "    Pearson Correlation\n",
    "    Adjusted Cosine Similarity\n",
    "    Jaccard Similarity (intersection over union) - not a good idea as it does not incorporate ratings, e.g.\n",
    "        even the same users have rated two items, highest Jaccard similarity as evidence for high item similarity,\n",
    "        their judgement may be very differently on the two items, justifying dissimilarity\n",
    "    \"\"\"\n",
    "    # 1. isolate e.g. users that have rated both items (a and b)\n",
    "    key_intersection = set(entity_ratings[a].keys()).intersection(entity_ratings[b].keys())\n",
    "    ratings = np.array([(entity_ratings[a][key], entity_ratings[b][key]) for key in key_intersection])\n",
    "    n_joint_ratings = len(ratings)\n",
    "\n",
    "    if n_joint_ratings > 1:\n",
    "        # 2. apply a similarity computation technique\n",
    "        if metric == 'pearson':\n",
    "            # Warning and nan if for one entity the variance is 0\n",
    "            sim = np.corrcoef(ratings, rowvar=False)[0, 1]\n",
    "        elif metric == 'cosine':\n",
    "            nom = ratings[:, 0].dot(ratings[:, 1])\n",
    "            denom = np.linalg.norm(ratings[:, 0]) * np.linalg.norm(ratings[:, 1])\n",
    "            sim = nom / denom\n",
    "        elif metric == 'euclidean':\n",
    "            sim = normalized_euclidean_sim(ratings[:, 0], ratings[:, 1])\n",
    "        elif metric == 'adj_cosine':\n",
    "            sim = None\n",
    "        else:\n",
    "            raise ValueError(f\"Value {metric} for argument 'mode' not supported.\")\n",
    "    else:\n",
    "        sim = None\n",
    "\n",
    "    return sim, n_joint_ratings"
   ]
  },
  {
   "cell_type": "code",
   "execution_count": 47,
   "metadata": {},
   "outputs": [],
   "source": [
    "# build user rating maps\n",
    "grouped = data.train_ratings[['user', 'item', 'rating']].groupby('user')\n",
    "for user in data.users:\n",
    "    vals = grouped.get_group(user)[['item', 'rating']].values\n",
    "    user_ratings[user] = dict(zip(vals[:, 0].astype(int),\n",
    "                                  vals[:, 1].astype(float)))"
   ]
  },
  {
   "cell_type": "code",
   "execution_count": 49,
   "metadata": {},
   "outputs": [],
   "source": [
    "user_pairs = itertools.combinations(data.users, 2)"
   ]
  },
  {
   "cell_type": "code",
   "execution_count": 50,
   "metadata": {},
   "outputs": [
    {
     "name": "stderr",
     "output_type": "stream",
     "text": [
      "/anaconda3/envs/recsys_training/lib/python3.7/site-packages/numpy/lib/function_base.py:2534: RuntimeWarning: invalid value encountered in true_divide\n",
      "  c /= stddev[:, None]\n",
      "/anaconda3/envs/recsys_training/lib/python3.7/site-packages/numpy/lib/function_base.py:2535: RuntimeWarning: invalid value encountered in true_divide\n",
      "  c /= stddev[None, :]\n"
     ]
    }
   ],
   "source": [
    "for pair in user_pairs:\n",
    "    user_user_sims[pair] = get_entity_sim(pair[0], pair[1], user_ratings, sim_metric)"
   ]
  },
  {
   "cell_type": "code",
   "execution_count": 52,
   "metadata": {},
   "outputs": [
    {
     "data": {
      "text/plain": [
       "(0.9759000729485333, 5)"
      ]
     },
     "execution_count": 52,
     "metadata": {},
     "output_type": "execute_result"
    }
   ],
   "source": [
    "user_user_sims[(1,4)]"
   ]
  },
  {
   "cell_type": "markdown",
   "metadata": {},
   "source": [
    "### Getting Recommendations"
   ]
  },
  {
   "cell_type": "markdown",
   "metadata": {},
   "source": [
    "#### Implement Nearest Neighbors for a given user\n",
    "\n",
    "For a given user id we like to get a list of up to $k$ elements where each element is a tuple of neighboring user id and the respective similarity between root and neighboring user."
   ]
  },
  {
   "cell_type": "code",
   "execution_count": 53,
   "metadata": {},
   "outputs": [],
   "source": [
    "def get_k_nearest_neighbors(user: int, k: int, user_user_sims: dict) -> List[Tuple[int, float]]:\n",
    "    neighbors = set(data.users)\n",
    "    neighbors.remove(user)\n",
    "\n",
    "    nearest_neighbors = dict()\n",
    "    for neighbor in neighbors:\n",
    "        sim = user_user_sims[tuple(sorted((user, neighbor)))][0]\n",
    "        if pd.notnull(sim):\n",
    "            nearest_neighbors[neighbor] = sim\n",
    "\n",
    "    nearest_neighbors = sorted(nearest_neighbors.items(),\n",
    "                               key=lambda kv: kv[1],\n",
    "                               reverse=True)\n",
    "    \n",
    "    return nearest_neighbors[:k]"
   ]
  },
  {
   "cell_type": "code",
   "execution_count": 61,
   "metadata": {},
   "outputs": [],
   "source": [
    "user_neighbors = get_k_nearest_neighbors(1, k=10, user_user_sims=user_user_sims)"
   ]
  },
  {
   "cell_type": "code",
   "execution_count": 62,
   "metadata": {},
   "outputs": [
    {
     "data": {
      "text/plain": [
       "[(107, 1.0),\n",
       " (443, 1.0),\n",
       " (485, 1.0),\n",
       " (687, 1.0),\n",
       " (791, 1.0),\n",
       " (820, 1.0),\n",
       " (34, 0.9999999999999999),\n",
       " (240, 0.9999999999999999),\n",
       " (281, 0.9999999999999999),\n",
       " (384, 0.9999999999999999)]"
      ]
     },
     "execution_count": 62,
     "metadata": {},
     "output_type": "execute_result"
    }
   ],
   "source": [
    "user_neighbors"
   ]
  },
  {
   "cell_type": "markdown",
   "metadata": {},
   "source": [
    "### Obtain the Neighborhood Ratings"
   ]
  },
  {
   "cell_type": "code",
   "execution_count": 90,
   "metadata": {},
   "outputs": [],
   "source": [
    "def get_neighborhood_ratings(user, user_neighbors: List[Tuple[int, float]]) -> Dict[int, List[Dict[str, float]]]:\n",
    "    neighborhood_ratings = {}\n",
    "    for neighbor, sim in user_neighbors:\n",
    "        neighbor_ratings = user_ratings[neighbor].copy()\n",
    "        \n",
    "        # collect neighbor ratings and items\n",
    "        for item, rating in neighbor_ratings.items():\n",
    "            add_item = {'sim': sim, 'rating': rating}\n",
    "            if item not in neighborhood_ratings.keys():\n",
    "                neighborhood_ratings[item] = [add_item]\n",
    "            else:\n",
    "                neighborhood_ratings[item].append(add_item)\n",
    "        \n",
    "    remove known items\n",
    "    known_items = list(user_ratings[user].keys())\n",
    "    for known_item in known_items:\n",
    "        neighborhood_ratings.pop(known_item, None)\n",
    "    \n",
    "    return neighborhood_ratings"
   ]
  },
  {
   "cell_type": "code",
   "execution_count": 91,
   "metadata": {},
   "outputs": [],
   "source": [
    "neighborhood_ratings = get_neighborhood_ratings(1, user_neighbors)"
   ]
  },
  {
   "cell_type": "code",
   "execution_count": 92,
   "metadata": {},
   "outputs": [
    {
     "data": {
      "text/plain": [
       "{340: [{'sim': 1.0, 'rating': 5.0},\n",
       "  {'sim': 1.0, 'rating': 5.0},\n",
       "  {'sim': 0.9999999999999999, 'rating': 4.0}],\n",
       " 325: [{'sim': 1.0, 'rating': 3.0}],\n",
       " 288: [{'sim': 1.0, 'rating': 3.0},\n",
       "  {'sim': 1.0, 'rating': 3.0},\n",
       "  {'sim': 1.0, 'rating': 4.0},\n",
       "  {'sim': 1.0, 'rating': 3.0},\n",
       "  {'sim': 1.0, 'rating': 5.0},\n",
       "  {'sim': 0.9999999999999999, 'rating': 5.0}],\n",
       " 312: [{'sim': 1.0, 'rating': 4.0},\n",
       "  {'sim': 0.9999999999999999, 'rating': 4.0}],\n",
       " 269: [{'sim': 1.0, 'rating': 5.0},\n",
       "  {'sim': 1.0, 'rating': 4.0},\n",
       "  {'sim': 1.0, 'rating': 4.0}],\n",
       " 313: [{'sim': 1.0, 'rating': 2.0},\n",
       "  {'sim': 1.0, 'rating': 4.0},\n",
       "  {'sim': 1.0, 'rating': 5.0},\n",
       "  {'sim': 1.0, 'rating': 5.0},\n",
       "  {'sim': 0.9999999999999999, 'rating': 5.0},\n",
       "  {'sim': 0.9999999999999999, 'rating': 5.0}],\n",
       " 300: [{'sim': 1.0, 'rating': 1.0},\n",
       "  {'sim': 0.9999999999999999, 'rating': 3.0},\n",
       "  {'sim': 0.9999999999999999, 'rating': 4.0},\n",
       "  {'sim': 0.9999999999999999, 'rating': 4.0}],\n",
       " 264: [{'sim': 1.0, 'rating': 3.0},\n",
       "  {'sim': 1.0, 'rating': 3.0},\n",
       "  {'sim': 1.0, 'rating': 3.0}],\n",
       " 271: [{'sim': 1.0, 'rating': 2.0},\n",
       "  {'sim': 1.0, 'rating': 2.0},\n",
       "  {'sim': 0.9999999999999999, 'rating': 5.0},\n",
       "  {'sim': 0.9999999999999999, 'rating': 4.0}],\n",
       " 333: [{'sim': 1.0, 'rating': 3.0},\n",
       "  {'sim': 1.0, 'rating': 5.0},\n",
       "  {'sim': 1.0, 'rating': 5.0},\n",
       "  {'sim': 0.9999999999999999, 'rating': 3.0},\n",
       "  {'sim': 0.9999999999999999, 'rating': 4.0}],\n",
       " 1243: [{'sim': 1.0, 'rating': 3.0}],\n",
       " 322: [{'sim': 1.0, 'rating': 1.0},\n",
       "  {'sim': 0.9999999999999999, 'rating': 4.0}],\n",
       " 305: [{'sim': 1.0, 'rating': 4.0}],\n",
       " 327: [{'sim': 1.0, 'rating': 3.0},\n",
       "  {'sim': 1.0, 'rating': 4.0},\n",
       "  {'sim': 1.0, 'rating': 5.0}],\n",
       " 302: [{'sim': 1.0, 'rating': 4.0},\n",
       "  {'sim': 1.0, 'rating': 4.0},\n",
       "  {'sim': 1.0, 'rating': 5.0},\n",
       "  {'sim': 0.9999999999999999, 'rating': 5.0},\n",
       "  {'sim': 0.9999999999999999, 'rating': 5.0}],\n",
       " 687: [{'sim': 1.0, 'rating': 3.0}],\n",
       " 358: [{'sim': 1.0, 'rating': 1.0}, {'sim': 1.0, 'rating': 1.0}],\n",
       " 323: [{'sim': 1.0, 'rating': 2.0},\n",
       "  {'sim': 0.9999999999999999, 'rating': 3.0}],\n",
       " 286: [{'sim': 1.0, 'rating': 5.0},\n",
       "  {'sim': 1.0, 'rating': 2.0},\n",
       "  {'sim': 1.0, 'rating': 3.0},\n",
       "  {'sim': 1.0, 'rating': 3.0},\n",
       "  {'sim': 1.0, 'rating': 4.0},\n",
       "  {'sim': 0.9999999999999999, 'rating': 5.0},\n",
       "  {'sim': 0.9999999999999999, 'rating': 5.0},\n",
       "  {'sim': 0.9999999999999999, 'rating': 4.0}],\n",
       " 678: [{'sim': 1.0, 'rating': 2.0}],\n",
       " 343: [{'sim': 1.0, 'rating': 5.0},\n",
       "  {'sim': 0.9999999999999999, 'rating': 3.0}],\n",
       " 644: [{'sim': 1.0, 'rating': 3.0}],\n",
       " 309: [{'sim': 1.0, 'rating': 5.0}],\n",
       " 39: [{'sim': 1.0, 'rating': 1.0}],\n",
       " 175: [{'sim': 1.0, 'rating': 2.0}],\n",
       " 948: [{'sim': 1.0, 'rating': 1.0}],\n",
       " 294: [{'sim': 1.0, 'rating': 5.0},\n",
       "  {'sim': 1.0, 'rating': 1.0},\n",
       "  {'sim': 1.0, 'rating': 3.0},\n",
       "  {'sim': 1.0, 'rating': 3.0},\n",
       "  {'sim': 0.9999999999999999, 'rating': 1.0},\n",
       "  {'sim': 0.9999999999999999, 'rating': 3.0}],\n",
       " 258: [{'sim': 1.0, 'rating': 5.0}, {'sim': 1.0, 'rating': 3.0}],\n",
       " 12: [{'sim': 1.0, 'rating': 5.0}],\n",
       " 748: [{'sim': 1.0, 'rating': 4.0},\n",
       "  {'sim': 1.0, 'rating': 2.0},\n",
       "  {'sim': 1.0, 'rating': 3.0},\n",
       "  {'sim': 1.0, 'rating': 3.0},\n",
       "  {'sim': 1.0, 'rating': 1.0},\n",
       "  {'sim': 0.9999999999999999, 'rating': 3.0},\n",
       "  {'sim': 0.9999999999999999, 'rating': 5.0},\n",
       "  {'sim': 0.9999999999999999, 'rating': 4.0}],\n",
       " 307: [{'sim': 1.0, 'rating': 3.0},\n",
       "  {'sim': 1.0, 'rating': 3.0},\n",
       "  {'sim': 0.9999999999999999, 'rating': 4.0}],\n",
       " 245: [{'sim': 1.0, 'rating': 3.0},\n",
       "  {'sim': 1.0, 'rating': 3.0},\n",
       "  {'sim': 1.0, 'rating': 3.0},\n",
       "  {'sim': 1.0, 'rating': 4.0},\n",
       "  {'sim': 0.9999999999999999, 'rating': 4.0},\n",
       "  {'sim': 0.9999999999999999, 'rating': 4.0}],\n",
       " 752: [{'sim': 1.0, 'rating': 3.0}],\n",
       " 311: [{'sim': 1.0, 'rating': 3.0}],\n",
       " 326: [{'sim': 1.0, 'rating': 2.0},\n",
       "  {'sim': 0.9999999999999999, 'rating': 1.0}],\n",
       " 330: [{'sim': 1.0, 'rating': 3.0}],\n",
       " 289: [{'sim': 1.0, 'rating': 3.0},\n",
       "  {'sim': 1.0, 'rating': 4.0},\n",
       "  {'sim': 1.0, 'rating': 2.0},\n",
       "  {'sim': 0.9999999999999999, 'rating': 1.0},\n",
       "  {'sim': 0.9999999999999999, 'rating': 4.0},\n",
       "  {'sim': 0.9999999999999999, 'rating': 3.0},\n",
       "  {'sim': 0.9999999999999999, 'rating': 5.0}],\n",
       " 328: [{'sim': 1.0, 'rating': 2.0},\n",
       "  {'sim': 1.0, 'rating': 4.0},\n",
       "  {'sim': 1.0, 'rating': 2.0}],\n",
       " 889: [{'sim': 1.0, 'rating': 5.0}],\n",
       " 242: [{'sim': 1.0, 'rating': 5.0},\n",
       "  {'sim': 0.9999999999999999, 'rating': 5.0}],\n",
       " 347: [{'sim': 1.0, 'rating': 2.0},\n",
       "  {'sim': 1.0, 'rating': 4.0},\n",
       "  {'sim': 0.9999999999999999, 'rating': 4.0}],\n",
       " 341: [{'sim': 1.0, 'rating': 4.0}],\n",
       " 538: [{'sim': 1.0, 'rating': 3.0},\n",
       "  {'sim': 1.0, 'rating': 3.0},\n",
       "  {'sim': 0.9999999999999999, 'rating': 4.0}],\n",
       " 303: [{'sim': 1.0, 'rating': 4.0}],\n",
       " 346: [{'sim': 1.0, 'rating': 4.0}],\n",
       " 345: [{'sim': 1.0, 'rating': 1.0}],\n",
       " 319: [{'sim': 1.0, 'rating': 4.0}, {'sim': 1.0, 'rating': 2.0}],\n",
       " 895: [{'sim': 1.0, 'rating': 4.0},\n",
       "  {'sim': 1.0, 'rating': 2.0},\n",
       "  {'sim': 0.9999999999999999, 'rating': 5.0}],\n",
       " 879: [{'sim': 1.0, 'rating': 3.0},\n",
       "  {'sim': 0.9999999999999999, 'rating': 3.0},\n",
       "  {'sim': 0.9999999999999999, 'rating': 4.0}],\n",
       " 324: [{'sim': 1.0, 'rating': 2.0},\n",
       "  {'sim': 1.0, 'rating': 3.0},\n",
       "  {'sim': 0.9999999999999999, 'rating': 5.0}],\n",
       " 336: [{'sim': 1.0, 'rating': 2.0},\n",
       "  {'sim': 0.9999999999999999, 'rating': 3.0}],\n",
       " 268: [{'sim': 1.0, 'rating': 5.0}],\n",
       " 321: [{'sim': 1.0, 'rating': 4.0}],\n",
       " 9: [{'sim': 1.0, 'rating': 5.0}],\n",
       " 299: [{'sim': 1.0, 'rating': 2.0}],\n",
       " 754: [{'sim': 1.0, 'rating': 4.0}],\n",
       " 181: [{'sim': 1.0, 'rating': 5.0}],\n",
       " 301: [{'sim': 1.0, 'rating': 3.0},\n",
       "  {'sim': 1.0, 'rating': 2.0},\n",
       "  {'sim': 0.9999999999999999, 'rating': 5.0},\n",
       "  {'sim': 0.9999999999999999, 'rating': 3.0}],\n",
       " 306: [{'sim': 1.0, 'rating': 5.0}],\n",
       " 332: [{'sim': 1.0, 'rating': 5.0},\n",
       "  {'sim': 0.9999999999999999, 'rating': 5.0},\n",
       "  {'sim': 0.9999999999999999, 'rating': 4.0}],\n",
       " 275: [{'sim': 1.0, 'rating': 5.0}],\n",
       " 50: [{'sim': 1.0, 'rating': 5.0}],\n",
       " 316: [{'sim': 1.0, 'rating': 3.0}],\n",
       " 898: [{'sim': 0.9999999999999999, 'rating': 5.0}],\n",
       " 329: [{'sim': 0.9999999999999999, 'rating': 5.0},\n",
       "  {'sim': 0.9999999999999999, 'rating': 3.0}],\n",
       " 292: [{'sim': 0.9999999999999999, 'rating': 5.0}],\n",
       " 990: [{'sim': 0.9999999999999999, 'rating': 5.0}],\n",
       " 991: [{'sim': 0.9999999999999999, 'rating': 4.0}],\n",
       " 690: [{'sim': 0.9999999999999999, 'rating': 4.0},\n",
       "  {'sim': 0.9999999999999999, 'rating': 5.0}],\n",
       " 259: [{'sim': 0.9999999999999999, 'rating': 2.0},\n",
       "  {'sim': 0.9999999999999999, 'rating': 3.0}],\n",
       " 899: [{'sim': 0.9999999999999999, 'rating': 5.0}],\n",
       " 272: [{'sim': 0.9999999999999999, 'rating': 5.0},\n",
       "  {'sim': 0.9999999999999999, 'rating': 5.0}],\n",
       " 873: [{'sim': 0.9999999999999999, 'rating': 2.0}],\n",
       " 353: [{'sim': 0.9999999999999999, 'rating': 1.0}],\n",
       " 938: [{'sim': 0.9999999999999999, 'rating': 2.0}],\n",
       " 304: [{'sim': 0.9999999999999999, 'rating': 5.0}],\n",
       " 682: [{'sim': 0.9999999999999999, 'rating': 3.0}],\n",
       " 989: [{'sim': 0.9999999999999999, 'rating': 2.0}],\n",
       " 342: [{'sim': 0.9999999999999999, 'rating': 1.0}],\n",
       " 877: [{'sim': 0.9999999999999999, 'rating': 4.0}],\n",
       " 355: [{'sim': 0.9999999999999999, 'rating': 4.0}],\n",
       " 751: [{'sim': 0.9999999999999999, 'rating': 4.0}],\n",
       " 689: [{'sim': 0.9999999999999999, 'rating': 4.0}],\n",
       " 878: [{'sim': 0.9999999999999999, 'rating': 4.0}]}"
      ]
     },
     "execution_count": 92,
     "metadata": {},
     "output_type": "execute_result"
    }
   ],
   "source": [
    "neighborhood_ratings"
   ]
  },
  {
   "cell_type": "markdown",
   "metadata": {},
   "source": [
    "### Compute Rating Predictions from Neighborhood Ratings"
   ]
  },
  {
   "cell_type": "code",
   "execution_count": 93,
   "metadata": {},
   "outputs": [],
   "source": [
    "def compute_rating_pred(neighborhood_ratings: dict) -> dict:\n",
    "    rating_preds = dict()\n",
    "    for item, ratings in neighborhood_ratings.items():\n",
    "        if len(ratings) > 0:\n",
    "            sims = np.array([rating['sim'] for rating in ratings])\n",
    "            ratings = np.array([rating['rating'] for rating in ratings])\n",
    "            pred_rating = (sims * ratings).sum() / sims.sum()\n",
    "            count = len(sims)\n",
    "            rating_preds[item] = {'pred': pred_rating,\n",
    "                                  'count': count}\n",
    "        else:\n",
    "            rating_preds[item] = {'pred': None, 'count': 0}\n",
    "\n",
    "    return rating_preds"
   ]
  },
  {
   "cell_type": "code",
   "execution_count": 94,
   "metadata": {},
   "outputs": [],
   "source": [
    "rating_preds = compute_rating_pred(neighborhood_ratings)"
   ]
  },
  {
   "cell_type": "code",
   "execution_count": 95,
   "metadata": {},
   "outputs": [
    {
     "data": {
      "text/plain": [
       "{340: {'pred': 4.666666666666667, 'count': 3},\n",
       " 325: {'pred': 3.0, 'count': 1},\n",
       " 288: {'pred': 3.8333333333333335, 'count': 6},\n",
       " 312: {'pred': 4.0, 'count': 2},\n",
       " 269: {'pred': 4.333333333333333, 'count': 3},\n",
       " 313: {'pred': 4.333333333333333, 'count': 6},\n",
       " 300: {'pred': 2.9999999999999996, 'count': 4},\n",
       " 264: {'pred': 3.0, 'count': 3},\n",
       " 271: {'pred': 3.25, 'count': 4},\n",
       " 333: {'pred': 4.0, 'count': 5},\n",
       " 1243: {'pred': 3.0, 'count': 1},\n",
       " 322: {'pred': 2.5, 'count': 2},\n",
       " 305: {'pred': 4.0, 'count': 1},\n",
       " 327: {'pred': 4.0, 'count': 3},\n",
       " 302: {'pred': 4.6, 'count': 5},\n",
       " 687: {'pred': 3.0, 'count': 1},\n",
       " 358: {'pred': 1.0, 'count': 2},\n",
       " 323: {'pred': 2.5, 'count': 2},\n",
       " 286: {'pred': 3.875, 'count': 8},\n",
       " 678: {'pred': 2.0, 'count': 1},\n",
       " 343: {'pred': 4.0, 'count': 2},\n",
       " 644: {'pred': 3.0, 'count': 1},\n",
       " 309: {'pred': 5.0, 'count': 1},\n",
       " 39: {'pred': 1.0, 'count': 1},\n",
       " 175: {'pred': 2.0, 'count': 1},\n",
       " 948: {'pred': 1.0, 'count': 1},\n",
       " 294: {'pred': 2.6666666666666665, 'count': 6},\n",
       " 258: {'pred': 4.0, 'count': 2},\n",
       " 12: {'pred': 5.0, 'count': 1},\n",
       " 748: {'pred': 3.125, 'count': 8},\n",
       " 307: {'pred': 3.3333333333333335, 'count': 3},\n",
       " 245: {'pred': 3.5, 'count': 6},\n",
       " 752: {'pred': 3.0, 'count': 1},\n",
       " 311: {'pred': 3.0, 'count': 1},\n",
       " 326: {'pred': 1.5, 'count': 2},\n",
       " 330: {'pred': 3.0, 'count': 1},\n",
       " 289: {'pred': 3.142857142857143, 'count': 7},\n",
       " 328: {'pred': 2.6666666666666665, 'count': 3},\n",
       " 889: {'pred': 5.0, 'count': 1},\n",
       " 242: {'pred': 5.0, 'count': 2},\n",
       " 347: {'pred': 3.3333333333333335, 'count': 3},\n",
       " 341: {'pred': 4.0, 'count': 1},\n",
       " 538: {'pred': 3.3333333333333335, 'count': 3},\n",
       " 303: {'pred': 4.0, 'count': 1},\n",
       " 346: {'pred': 4.0, 'count': 1},\n",
       " 345: {'pred': 1.0, 'count': 1},\n",
       " 319: {'pred': 3.0, 'count': 2},\n",
       " 895: {'pred': 3.6666666666666665, 'count': 3},\n",
       " 879: {'pred': 3.3333333333333335, 'count': 3},\n",
       " 324: {'pred': 3.3333333333333335, 'count': 3},\n",
       " 336: {'pred': 2.5, 'count': 2},\n",
       " 268: {'pred': 5.0, 'count': 1},\n",
       " 321: {'pred': 4.0, 'count': 1},\n",
       " 9: {'pred': 5.0, 'count': 1},\n",
       " 299: {'pred': 2.0, 'count': 1},\n",
       " 754: {'pred': 4.0, 'count': 1},\n",
       " 181: {'pred': 5.0, 'count': 1},\n",
       " 301: {'pred': 3.25, 'count': 4},\n",
       " 306: {'pred': 5.0, 'count': 1},\n",
       " 332: {'pred': 4.666666666666667, 'count': 3},\n",
       " 275: {'pred': 5.0, 'count': 1},\n",
       " 50: {'pred': 5.0, 'count': 1},\n",
       " 316: {'pred': 3.0, 'count': 1},\n",
       " 898: {'pred': 5.0, 'count': 1},\n",
       " 329: {'pred': 3.9999999999999996, 'count': 2},\n",
       " 292: {'pred': 5.0, 'count': 1},\n",
       " 990: {'pred': 5.0, 'count': 1},\n",
       " 991: {'pred': 4.0, 'count': 1},\n",
       " 690: {'pred': 4.5, 'count': 2},\n",
       " 259: {'pred': 2.5, 'count': 2},\n",
       " 899: {'pred': 5.0, 'count': 1},\n",
       " 272: {'pred': 5.0, 'count': 2},\n",
       " 873: {'pred': 2.0, 'count': 1},\n",
       " 353: {'pred': 1.0, 'count': 1},\n",
       " 938: {'pred': 2.0, 'count': 1},\n",
       " 304: {'pred': 5.0, 'count': 1},\n",
       " 682: {'pred': 3.0, 'count': 1},\n",
       " 989: {'pred': 2.0, 'count': 1},\n",
       " 342: {'pred': 1.0, 'count': 1},\n",
       " 877: {'pred': 4.0, 'count': 1},\n",
       " 355: {'pred': 4.0, 'count': 1},\n",
       " 751: {'pred': 4.0, 'count': 1},\n",
       " 689: {'pred': 4.0, 'count': 1},\n",
       " 878: {'pred': 4.0, 'count': 1}}"
      ]
     },
     "execution_count": 95,
     "metadata": {},
     "output_type": "execute_result"
    }
   ],
   "source": [
    "rating_preds"
   ]
  },
  {
   "cell_type": "markdown",
   "metadata": {},
   "source": [
    "### Compute the Top-$N$ Recommendation Items"
   ]
  },
  {
   "cell_type": "code",
   "execution_count": 96,
   "metadata": {},
   "outputs": [],
   "source": [
    "def compute_top_n(rating_preds: dict, min_count: int, N: int) -> OrderedDict:\n",
    "    rating_preds = {key: val for (key, val) in rating_preds.items()\n",
    "                    if val['count'] >= min_count}\n",
    "    # assuming more ratings mean higher confidence in the prediction\n",
    "    sorted_rating_preds = sorted(rating_preds.items(),\n",
    "                                 key=lambda kv: (kv[1]['pred'], kv[1]['count']),\n",
    "                                 reverse=True)\n",
    "\n",
    "    return OrderedDict(sorted_rating_preds[:N])"
   ]
  },
  {
   "cell_type": "code",
   "execution_count": 97,
   "metadata": {},
   "outputs": [],
   "source": [
    "top_n_recs = compute_top_n(rating_preds, min_count=2, N=10)"
   ]
  },
  {
   "cell_type": "code",
   "execution_count": 98,
   "metadata": {},
   "outputs": [
    {
     "data": {
      "text/plain": [
       "OrderedDict([(242, {'pred': 5.0, 'count': 2}),\n",
       "             (272, {'pred': 5.0, 'count': 2}),\n",
       "             (340, {'pred': 4.666666666666667, 'count': 3}),\n",
       "             (332, {'pred': 4.666666666666667, 'count': 3}),\n",
       "             (302, {'pred': 4.6, 'count': 5}),\n",
       "             (690, {'pred': 4.5, 'count': 2}),\n",
       "             (313, {'pred': 4.333333333333333, 'count': 6}),\n",
       "             (269, {'pred': 4.333333333333333, 'count': 3}),\n",
       "             (333, {'pred': 4.0, 'count': 5}),\n",
       "             (327, {'pred': 4.0, 'count': 3})])"
      ]
     },
     "execution_count": 98,
     "metadata": {},
     "output_type": "execute_result"
    }
   ],
   "source": [
    "top_n_recs"
   ]
  },
  {
   "cell_type": "markdown",
   "metadata": {},
   "source": [
    "### Combine the steps in a single method"
   ]
  },
  {
   "cell_type": "code",
   "execution_count": 99,
   "metadata": {},
   "outputs": [],
   "source": [
    "def get_recommendations(user: int,\n",
    "                        user_user_sims: dict,\n",
    "                        k: int,\n",
    "                        min_count: int,\n",
    "                        N: int):\n",
    "    user_neighbors = get_k_nearest_neighbors(user, k=k, user_user_sims=user_user_sims)\n",
    "    neighborhood_ratings = get_neighborhood_ratings(user, user_neighbors)\n",
    "    rating_preds = compute_rating_pred(neighborhood_ratings)\n",
    "    top_n_recs = compute_top_n(rating_preds, min_count=min_count, N=N)\n",
    "    return top_n_recs"
   ]
  },
  {
   "cell_type": "code",
   "execution_count": 100,
   "metadata": {},
   "outputs": [
    {
     "data": {
      "text/plain": [
       "OrderedDict([(242, {'pred': 5.0, 'count': 2}),\n",
       "             (272, {'pred': 5.0, 'count': 2}),\n",
       "             (340, {'pred': 4.666666666666667, 'count': 3}),\n",
       "             (332, {'pred': 4.666666666666667, 'count': 3}),\n",
       "             (302, {'pred': 4.6, 'count': 5}),\n",
       "             (690, {'pred': 4.5, 'count': 2}),\n",
       "             (313, {'pred': 4.333333333333333, 'count': 6}),\n",
       "             (269, {'pred': 4.333333333333333, 'count': 3}),\n",
       "             (333, {'pred': 4.0, 'count': 5}),\n",
       "             (327, {'pred': 4.0, 'count': 3})])"
      ]
     },
     "execution_count": 100,
     "metadata": {},
     "output_type": "execute_result"
    }
   ],
   "source": [
    "get_recommendations(1, user_user_sims, 10, 2, 10)"
   ]
  },
  {
   "cell_type": "markdown",
   "metadata": {},
   "source": [
    "## "
   ]
  },
  {
   "cell_type": "markdown",
   "metadata": {},
   "source": [
    "### Evaluation"
   ]
  },
  {
   "cell_type": "code",
   "execution_count": 101,
   "metadata": {},
   "outputs": [],
   "source": [
    "k = 10\n",
    "min_count = 2\n",
    "N = 10"
   ]
  },
  {
   "cell_type": "code",
   "execution_count": 102,
   "metadata": {},
   "outputs": [],
   "source": [
    "users = relevant_items.keys()\n",
    "prec_at_N = dict.fromkeys(data.users)\n",
    "\n",
    "for user in users:\n",
    "    recommendations = get_recommendations(user, user_user_sims, k, min_count, N)\n",
    "    recommendations = list(recommendations.keys())\n",
    "    hits = np.intersect1d(recommendations,\n",
    "                          relevant_items[user])\n",
    "    prec_at_N[user] = len(hits)/N"
   ]
  },
  {
   "cell_type": "code",
   "execution_count": 89,
   "metadata": {},
   "outputs": [
    {
     "data": {
      "text/plain": [
       "0.04627659574468085"
      ]
     },
     "execution_count": 89,
     "metadata": {},
     "output_type": "execute_result"
    }
   ],
   "source": [
    "np.mean([val for val in prec_at_N.values() if val is not None])"
   ]
  }
 ],
 "metadata": {
  "kernelspec": {
   "display_name": "Python 3",
   "language": "python",
   "name": "python3"
  },
  "language_info": {
   "codemirror_mode": {
    "name": "ipython",
    "version": 3
   },
   "file_extension": ".py",
   "mimetype": "text/x-python",
   "name": "python",
   "nbconvert_exporter": "python",
   "pygments_lexer": "ipython3",
   "version": "3.7.5"
  },
  "pycharm": {
   "stem_cell": {
    "cell_type": "raw",
    "metadata": {
     "collapsed": false
    },
    "source": []
   }
  }
 },
 "nbformat": 4,
 "nbformat_minor": 4
}
