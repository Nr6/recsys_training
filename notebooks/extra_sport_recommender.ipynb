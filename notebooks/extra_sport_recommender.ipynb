{
 "cells": [
  {
   "cell_type": "code",
   "execution_count": 5,
   "metadata": {},
   "outputs": [],
   "source": [
    "import itertools\n",
    "from typing import Dict, List, Tuple\n",
    "\n",
    "import matplotlib.pyplot as plt\n",
    "import numpy as np\n",
    "import pandas as pd"
   ]
  },
  {
   "cell_type": "code",
   "execution_count": 6,
   "metadata": {},
   "outputs": [],
   "source": [
    "sports = [\n",
    "    'badminton',\n",
    "    'basketball',\n",
    "    'biking',\n",
    "    'boxing',\n",
    "    'fighting',\n",
    "    'fishing',\n",
    "    'football',\n",
    "    'hockey',\n",
    "    'running',\n",
    "    'swimming',\n",
    "    'tabletennis',\n",
    "    'tennis',\n",
    "    'volleyball'\n",
    "]"
   ]
  },
  {
   "cell_type": "code",
   "execution_count": 7,
   "metadata": {},
   "outputs": [],
   "source": [
    "people = ['Barbara', 'Birol', 'Guido', 'Lisa', 'Rudi', 'Suna', 'Sven', 'Yvonne']"
   ]
  },
  {
   "cell_type": "code",
   "execution_count": 8,
   "metadata": {},
   "outputs": [],
   "source": [
    "ratings = {\n",
    "    \"Barbara\": {\"football\": 3, \"basketball\": 5, \"boxing\": 4, \"biking\": 2, \"fighting\": 4},\n",
    "    \"Birol\": {\"boxing\": 4, \"hockey\": 2, \"biking\": 4, \"fighting\": 5, \"swimming\": 5, \"tennis\": 5},\n",
    "    \"Guido\": {\"basketball\": 2, \"tennis\": 4, \"boxing\": 2, \"biking\": 2, \"volleyball\": 4, \"football\": 5},\n",
    "    \"Lisa\": {\"football\": 4, \"tabletennis\": 3, \"running\": 4, \"volleyball\": 5, \"swimming\": 1},\n",
    "    \"Rudi\": {\"football\": 1, \"badminton\": 4, \"biking\": 5, \"running\": 5, \"tabletennis\": 1},\n",
    "    \"Suna\": {\"swimming\": 4, \"volleyball\": 5, \"running\": 3, \"tennis\": 5, \"tabletennis\": 4},\n",
    "    \"Sven\": {\"swimming\": 5, \"biking\": 4, \"running\": 4, \"fishing\": 1, \"badminton\": 5},\n",
    "    \"Yvonne\": {\"basketball\": 1, \"badminton\": 3, \"tennis\": 5, \"fighting\": 2, \"football\": 5, \"running\": 5}\n",
    "}\n",
    "ratings = {k: ratings[k] for k in sorted(ratings.keys())}"
   ]
  },
  {
   "cell_type": "code",
   "execution_count": 9,
   "metadata": {},
   "outputs": [],
   "source": [
    "rows = []\n",
    "for person, individual_ratings in ratings.items():\n",
    "    for sport, rating in individual_ratings.items():\n",
    "        rows.append([person, sport, rating])\n",
    "\n",
    "ratings_df = pd.DataFrame(rows, columns=[\"person\", \"sport\", \"rating\"])"
   ]
  },
  {
   "cell_type": "code",
   "execution_count": 10,
   "metadata": {},
   "outputs": [],
   "source": [
    "m = len(people)\n",
    "n = len(sports)"
   ]
  },
  {
   "cell_type": "markdown",
   "metadata": {},
   "source": [
    "## Fill the Matrix"
   ]
  },
  {
   "cell_type": "code",
   "execution_count": 11,
   "metadata": {},
   "outputs": [],
   "source": [
    "# initialize\n",
    "rating_matrix = np.zeros((m, n))\n",
    "# fill with ratings\n",
    "for person_idx, person in enumerate(people):\n",
    "    individual_ratings = ratings[person]\n",
    "    for sport, rating in individual_ratings.items():\n",
    "        sport_idx = sports.index(sport)\n",
    "        rating_matrix[person_idx, sport_idx] = rating"
   ]
  },
  {
   "cell_type": "code",
   "execution_count": 12,
   "metadata": {},
   "outputs": [
    {
     "data": {
      "text/plain": [
       "array([[0., 5., 2., 4., 4., 0., 3., 0., 0., 0., 0., 0., 0.],\n",
       "       [0., 0., 4., 4., 5., 0., 0., 2., 0., 5., 0., 5., 0.],\n",
       "       [0., 2., 2., 2., 0., 0., 5., 0., 0., 0., 0., 4., 4.],\n",
       "       [0., 0., 0., 0., 0., 0., 4., 0., 4., 1., 3., 0., 5.],\n",
       "       [4., 0., 5., 0., 0., 0., 1., 0., 5., 0., 1., 0., 0.],\n",
       "       [0., 0., 0., 0., 0., 0., 0., 0., 3., 4., 4., 5., 5.],\n",
       "       [5., 0., 4., 0., 0., 1., 0., 0., 4., 5., 0., 0., 0.],\n",
       "       [3., 1., 0., 0., 2., 0., 5., 0., 5., 0., 0., 5., 0.]])"
      ]
     },
     "execution_count": 12,
     "metadata": {},
     "output_type": "execute_result"
    }
   ],
   "source": [
    "rating_matrix"
   ]
  },
  {
   "cell_type": "code",
   "execution_count": 13,
   "metadata": {},
   "outputs": [
    {
     "name": "stdout",
     "output_type": "stream",
     "text": [
      "Sparsity:  58.65%\n"
     ]
    }
   ],
   "source": [
    "sparsity = (rating_matrix == 0).sum() / rating_matrix.size\n",
    "print(f\"Sparsity: {sparsity: .2%}\")"
   ]
  },
  {
   "cell_type": "markdown",
   "metadata": {},
   "source": [
    "## Nearest Neighborhood Collaborative Filtering (user-based)\n",
    "* compute similarities among the users\n",
    "* perform neighborhood-based collaborative filtering"
   ]
  },
  {
   "cell_type": "markdown",
   "metadata": {},
   "source": [
    "### User-User Similarities"
   ]
  },
  {
   "cell_type": "code",
   "execution_count": 15,
   "metadata": {},
   "outputs": [],
   "source": [
    "def get_cosine_sim(a: int, b: int, entity_ratings: dict) -> tuple:\n",
    "    # 1. isolate e.g. users that have rated both items (a and b)\n",
    "    key_intersection = set(entity_ratings[a].keys()).intersection(entity_ratings[b].keys())\n",
    "    ratings = np.array([(entity_ratings[a][key], entity_ratings[b][key]) for key in key_intersection])\n",
    "    n_joint_ratings = len(ratings)\n",
    "    \n",
    "    sim = None\n",
    "    if n_joint_ratings > 1:\n",
    "        nom = ratings[:, 0].dot(ratings[:, 1])\n",
    "        denom = np.linalg.norm(ratings[:, 0]) * np.linalg.norm(ratings[:, 1])\n",
    "        sim = nom / denom\n",
    "        \n",
    "    return sim, n_joint_ratings"
   ]
  },
  {
   "cell_type": "code",
   "execution_count": 16,
   "metadata": {},
   "outputs": [],
   "source": [
    "user_user_sims = {}\n",
    "user_pairs = itertools.combinations(people, 2)"
   ]
  },
  {
   "cell_type": "code",
   "execution_count": 17,
   "metadata": {},
   "outputs": [],
   "source": [
    "for pair in user_pairs:\n",
    "    user_user_sims[pair] = get_cosine_sim(pair[0], pair[1], ratings)"
   ]
  },
  {
   "cell_type": "code",
   "execution_count": 18,
   "metadata": {},
   "outputs": [
    {
     "data": {
      "text/plain": [
       "(0.7071067811865476, 2)"
      ]
     },
     "execution_count": 18,
     "metadata": {},
     "output_type": "execute_result"
    }
   ],
   "source": [
    "user_user_sims[(\"Barbara\", \"Rudi\")]"
   ]
  },
  {
   "cell_type": "markdown",
   "metadata": {},
   "source": [
    "### 1. Nearest Neighbors for a given user"
   ]
  },
  {
   "cell_type": "code",
   "execution_count": 19,
   "metadata": {},
   "outputs": [],
   "source": [
    "def get_k_nearest_neighbors(user: int, k: int, users: list, user_user_sims: dict) -> list:\n",
    "    neighbors = set(users)\n",
    "    neighbors.remove(user)\n",
    "\n",
    "    nearest_neighbors = dict()\n",
    "    for neighbor in neighbors:\n",
    "        sim = user_user_sims[tuple(sorted((user, neighbor)))][0]\n",
    "        if pd.notnull(sim):\n",
    "            nearest_neighbors[neighbor] = sim\n",
    "\n",
    "    nearest_neighbors = sorted(nearest_neighbors.items(),\n",
    "                               key=lambda kv: kv[1],\n",
    "                               reverse=True)\n",
    "    \n",
    "    return nearest_neighbors[:k]"
   ]
  },
  {
   "cell_type": "code",
   "execution_count": 20,
   "metadata": {},
   "outputs": [],
   "source": [
    "user_neighbors = get_k_nearest_neighbors(\"Barbara\", 2, people, user_user_sims)"
   ]
  },
  {
   "cell_type": "code",
   "execution_count": 21,
   "metadata": {},
   "outputs": [
    {
     "data": {
      "text/plain": [
       "[('Birol', 0.9713237285143654), ('Guido', 0.8277591347639633)]"
      ]
     },
     "execution_count": 21,
     "metadata": {},
     "output_type": "execute_result"
    }
   ],
   "source": [
    "user_neighbors"
   ]
  },
  {
   "cell_type": "markdown",
   "metadata": {},
   "source": [
    "### 2. Obtain the Neighborhood Ratings"
   ]
  },
  {
   "cell_type": "code",
   "execution_count": 22,
   "metadata": {},
   "outputs": [],
   "source": [
    "def get_neighborhood_ratings(user, user_neighbors: list, ratings: dict) -> dict:\n",
    "    neighborhood_ratings = {}\n",
    "    for neighbor, sim in user_neighbors:\n",
    "        neighbor_ratings = ratings[neighbor].copy()\n",
    "        \n",
    "        # collect neighbor ratings and items\n",
    "        for item, rating in neighbor_ratings.items():\n",
    "            add_item = {'sim': sim, 'rating': rating}\n",
    "            if item not in neighborhood_ratings.keys():\n",
    "                neighborhood_ratings[item] = [add_item]\n",
    "            else:\n",
    "                neighborhood_ratings[item].append(add_item)\n",
    "        \n",
    "    # remove known items\n",
    "    known_items = list(ratings[user].keys())\n",
    "    for known_item in known_items:\n",
    "        neighborhood_ratings.pop(known_item, None)\n",
    "    \n",
    "    return neighborhood_ratings"
   ]
  },
  {
   "cell_type": "code",
   "execution_count": 23,
   "metadata": {},
   "outputs": [],
   "source": [
    "neighborhood_ratings = get_neighborhood_ratings(\"Barbara\", user_neighbors, ratings)"
   ]
  },
  {
   "cell_type": "code",
   "execution_count": 24,
   "metadata": {},
   "outputs": [
    {
     "data": {
      "text/plain": [
       "{'hockey': [{'sim': 0.9713237285143654, 'rating': 2}],\n",
       " 'swimming': [{'sim': 0.9713237285143654, 'rating': 5}],\n",
       " 'tennis': [{'sim': 0.9713237285143654, 'rating': 5},\n",
       "  {'sim': 0.8277591347639633, 'rating': 4}],\n",
       " 'volleyball': [{'sim': 0.8277591347639633, 'rating': 4}]}"
      ]
     },
     "execution_count": 24,
     "metadata": {},
     "output_type": "execute_result"
    }
   ],
   "source": [
    "neighborhood_ratings"
   ]
  },
  {
   "cell_type": "markdown",
   "metadata": {},
   "source": [
    "### 3. Compute Rating Predictions from Neighborhood Ratings"
   ]
  },
  {
   "cell_type": "code",
   "execution_count": 25,
   "metadata": {},
   "outputs": [],
   "source": [
    "def compute_rating_pred(neighborhood_ratings: dict) -> dict:\n",
    "    rating_preds = dict()\n",
    "    for item, ratings in neighborhood_ratings.items():\n",
    "        if len(ratings) > 0:\n",
    "            sims = np.array([rating['sim'] for rating in ratings])\n",
    "            ratings = np.array([rating['rating'] for rating in ratings])\n",
    "            pred_rating = (sims * ratings).sum() / sims.sum()\n",
    "            count = len(sims)\n",
    "            rating_preds[item] = {'pred': pred_rating,\n",
    "                                  'count': count}\n",
    "        else:\n",
    "            rating_preds[item] = {'pred': None, 'count': 0}\n",
    "\n",
    "    return rating_preds"
   ]
  },
  {
   "cell_type": "code",
   "execution_count": 26,
   "metadata": {},
   "outputs": [],
   "source": [
    "rating_preds = compute_rating_pred(neighborhood_ratings)"
   ]
  },
  {
   "cell_type": "code",
   "execution_count": 27,
   "metadata": {},
   "outputs": [
    {
     "data": {
      "text/plain": [
       "{'hockey': {'pred': 2.0, 'count': 1},\n",
       " 'swimming': {'pred': 5.0, 'count': 1},\n",
       " 'tennis': {'pred': 4.5398993833693675, 'count': 2},\n",
       " 'volleyball': {'pred': 4.0, 'count': 1}}"
      ]
     },
     "execution_count": 27,
     "metadata": {},
     "output_type": "execute_result"
    }
   ],
   "source": [
    "rating_preds"
   ]
  },
  {
   "cell_type": "markdown",
   "metadata": {},
   "source": [
    "### 4. Compute the Top-$N$ Recommendation Items"
   ]
  },
  {
   "cell_type": "code",
   "execution_count": 28,
   "metadata": {},
   "outputs": [],
   "source": [
    "from collections import OrderedDict\n",
    "\n",
    "def compute_top_n(rating_preds: dict, min_count: int, N: int) -> OrderedDict:\n",
    "    rating_preds = {key: val for (key, val) in rating_preds.items()\n",
    "                    if val['count'] >= min_count}\n",
    "    # assuming more ratings mean higher confidence in the prediction\n",
    "    sorted_rating_preds = sorted(rating_preds.items(),\n",
    "                                 key=lambda kv: (kv[1]['pred'], kv[1]['count']),\n",
    "                                 reverse=True)\n",
    "\n",
    "    return OrderedDict(sorted_rating_preds[:N])"
   ]
  },
  {
   "cell_type": "code",
   "execution_count": 29,
   "metadata": {},
   "outputs": [],
   "source": [
    "top_n_recs = compute_top_n(rating_preds, min_count=2, N=1)"
   ]
  },
  {
   "cell_type": "code",
   "execution_count": 30,
   "metadata": {},
   "outputs": [
    {
     "data": {
      "text/plain": [
       "OrderedDict([('tennis', {'pred': 4.5398993833693675, 'count': 2})])"
      ]
     },
     "execution_count": 30,
     "metadata": {},
     "output_type": "execute_result"
    }
   ],
   "source": [
    "top_n_recs"
   ]
  },
  {
   "cell_type": "markdown",
   "metadata": {},
   "source": [
    "### Combined all steps"
   ]
  },
  {
   "cell_type": "code",
   "execution_count": 31,
   "metadata": {},
   "outputs": [],
   "source": [
    "def get_recommendations(user: int,\n",
    "                        users: list,\n",
    "                        user_user_sims: dict,\n",
    "                        ratings: dict,\n",
    "                        k: int,\n",
    "                        C: int,\n",
    "                        N: int):\n",
    "    user_neighbors = get_k_nearest_neighbors(user, k=k, users=users, user_user_sims=user_user_sims)\n",
    "    neighborhood_ratings = get_neighborhood_ratings(user, user_neighbors, ratings)\n",
    "    rating_preds = compute_rating_pred(neighborhood_ratings)\n",
    "    top_n_recs = compute_top_n(rating_preds, min_count=C, N=N)\n",
    "    return top_n_recs"
   ]
  },
  {
   "cell_type": "code",
   "execution_count": 32,
   "metadata": {},
   "outputs": [],
   "source": [
    "rec = get_recommendations(\"Barbara\", people, user_user_sims, ratings, k=2, C=2, N=1)"
   ]
  },
  {
   "cell_type": "code",
   "execution_count": 33,
   "metadata": {},
   "outputs": [
    {
     "data": {
      "text/plain": [
       "OrderedDict([('tennis', {'pred': 4.5398993833693675, 'count': 2})])"
      ]
     },
     "execution_count": 33,
     "metadata": {},
     "output_type": "execute_result"
    }
   ],
   "source": [
    "rec"
   ]
  },
  {
   "cell_type": "code",
   "execution_count": 34,
   "metadata": {},
   "outputs": [
    {
     "name": "stdout",
     "output_type": "stream",
     "text": [
      "Barbara --> tennis     @ 4.5 - 2 neighbor ratings\n",
      "Birol   --> running    @ 3.5 - 2 neighbor ratings\n",
      "Guido   --> running    @ 4.0 - 2 neighbor ratings\n",
      "Lisa    --> tennis     @ 4.5 - 2 neighbor ratings\n",
      "Rudi    --> Nothing for you :(\n",
      "Suna    --> biking     @ 3.0 - 2 neighbor ratings\n",
      "Sven    --> tennis     @ 5.0 - 2 neighbor ratings\n",
      "Yvonne  --> volleyball @ 4.5 - 2 neighbor ratings\n"
     ]
    }
   ],
   "source": [
    "for person in people:\n",
    "    recs = get_recommendations(person, people, user_user_sims, ratings, k=2, C=2, N=1)\n",
    "    person = person.ljust(7)\n",
    "    if len(recs) > 0:\n",
    "        sport = list(recs)[0]\n",
    "        pred, count = recs.pop(sport).values()\n",
    "        print(f\"{person} --> {sport.ljust(10)} @ {round(pred, 1)} - {count} neighbor ratings\")\n",
    "    else:\n",
    "        print(f\"{person} --> Nothing for you :(\")"
   ]
  }
 ],
 "metadata": {
  "kernelspec": {
   "display_name": "Python 3",
   "language": "python",
   "name": "python3"
  },
  "language_info": {
   "codemirror_mode": {
    "name": "ipython",
    "version": 3
   },
   "file_extension": ".py",
   "mimetype": "text/x-python",
   "name": "python",
   "nbconvert_exporter": "python",
   "pygments_lexer": "ipython3",
   "version": "3.7.5"
  }
 },
 "nbformat": 4,
 "nbformat_minor": 4
}
