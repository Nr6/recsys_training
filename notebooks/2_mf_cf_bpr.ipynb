{
 "cells": [
  {
   "cell_type": "code",
   "execution_count": 1,
   "metadata": {},
   "outputs": [],
   "source": [
    "%load_ext autoreload\n",
    "%autoreload 2"
   ]
  },
  {
   "cell_type": "markdown",
   "metadata": {},
   "source": [
    "Implementation of Bayesian Personalized Ranking framing the Recommendation Problem as Ranking Optimization"
   ]
  },
  {
   "cell_type": "markdown",
   "metadata": {},
   "source": [
    "[BPR: Bayesian Personalized Ranking from Implicit Feedback](https://arxiv.org/pdf/1205.2618.pdf)"
   ]
  },
  {
   "cell_type": "code",
   "execution_count": 19,
   "metadata": {},
   "outputs": [],
   "source": [
    "import matplotlib.pyplot as plt"
   ]
  },
  {
   "cell_type": "code",
   "execution_count": 3,
   "metadata": {},
   "outputs": [],
   "source": [
    "from recsys_training.data import Dataset\n",
    "from recsys_training.evaluation import retrieval_score\n",
    "from recsys_training.model import BPRRecommender"
   ]
  },
  {
   "cell_type": "markdown",
   "metadata": {},
   "source": [
    "\\begin{equation*}\n",
    "\\hat{x}_{uij} = \\hat{x}_{ui} - \\hat{x}_{uj} \\\\\n",
    "x_{ui} = \\sum_{f=1}^{d} w_{uf} \\cdot h_{if}, i \\in I_u^+ \\\\\n",
    "x_{uj} = \\sum_{f=1}^{d} w_{uf} \\cdot h_{jf}, j \\in I_u^- \\\\\n",
    "\\end{equation*}\n",
    "\n",
    "\\begin{equation*}\n",
    "\\text{BPR-Opt} := \\sum_{(u,i,j) \\in D_S} ln(\\hat{x}_{uijj}) - \\lambda_{\\Theta} \\cdot ||\\Theta||^2\n",
    "\\end{equation*}\n",
    "\n",
    "\\begin{equation*}\n",
    "\\frac{\\partial \\text{BPR-Opt}}{\\partial \\Theta} = \\frac{-e^{-\\hat{x}_{uij}}}{1+e^{-\\hat{x}_{uij}}} \\cdot \\frac{\\partial \\hat{x}_{uij}}{\\partial \\Theta} - \\lambda_{\\Theta} \\cdot \\Theta\n",
    "\\end{equation*}\n",
    "\n",
    "\\begin{equation*}\n",
    "\\frac{\\partial x_{uij}}{\\partial \\Theta} =\n",
    "\\begin{cases}\n",
    "(h_{if}-h_{jf}) & \\text{for } \\Theta = w_{uf} \\\\\n",
    "w_{uf} & \\text{for } \\Theta = h_{if} \\\\\n",
    "-w_{uf} & \\text{for } \\Theta = h_{jf}\n",
    "\\end{cases}\n",
    "\\end{equation*}"
   ]
  },
  {
   "cell_type": "markdown",
   "metadata": {},
   "source": [
    "\\begin{equation*}\n",
    "\\{W, H\\} = \\Theta \\\\\n",
    "\\Theta \\sim U[-0.5 \\cdot \\frac{1}{d}, 0.5 \\cdot \\frac{1}{d}]\n",
    "\\end{equation*}\n",
    "\n",
    "(centered around 0 and scaled by number of latent factor components)"
   ]
  },
  {
   "cell_type": "code",
   "execution_count": 4,
   "metadata": {},
   "outputs": [],
   "source": [
    "k = 16\n",
    "N = 10\n",
    "seed = 42"
   ]
  },
  {
   "cell_type": "code",
   "execution_count": 5,
   "metadata": {},
   "outputs": [],
   "source": [
    "ml100k_filepath = '../data/raw/ml-100k/u.data'\n",
    "data = Dataset(ml100k_filepath)\n",
    "data.binarize(min_rating=4.0)\n",
    "data.rating_split(seed=seed)"
   ]
  },
  {
   "cell_type": "code",
   "execution_count": 6,
   "metadata": {},
   "outputs": [],
   "source": [
    "recommender = BPRRecommender(data.train_ratings, data.users, data.items,\n",
    "                             k=k, N=N, seed=seed)"
   ]
  },
  {
   "cell_type": "code",
   "execution_count": 7,
   "metadata": {},
   "outputs": [
    {
     "name": "stdout",
     "output_type": "stream",
     "text": [
      "Epoch 01: Mean Ranking Loss: 0.6928\n",
      "Epoch 02: Mean Ranking Loss: 0.6794\n",
      "Epoch 03: Mean Ranking Loss: 0.4793\n",
      "Epoch 04: Mean Ranking Loss: 0.3419\n",
      "Epoch 05: Mean Ranking Loss: 0.3316\n",
      "Epoch 06: Mean Ranking Loss: 0.2848\n",
      "Epoch 07: Mean Ranking Loss: 0.2878\n",
      "Epoch 08: Mean Ranking Loss: 0.2844\n",
      "Epoch 09: Mean Ranking Loss: 0.2564\n",
      "Epoch 10: Mean Ranking Loss: 0.2480\n",
      "Epoch 11: Mean Ranking Loss: 0.2389\n",
      "Epoch 12: Mean Ranking Loss: 0.2344\n",
      "Epoch 13: Mean Ranking Loss: 0.1937\n",
      "Epoch 14: Mean Ranking Loss: 0.1960\n",
      "Epoch 15: Mean Ranking Loss: 0.1924\n",
      "Epoch 16: Mean Ranking Loss: 0.1923\n",
      "Epoch 17: Mean Ranking Loss: 0.1968\n",
      "Epoch 18: Mean Ranking Loss: 0.1799\n",
      "Epoch 19: Mean Ranking Loss: 0.1651\n",
      "Epoch 20: Mean Ranking Loss: 0.1745\n",
      "Epoch 21: Mean Ranking Loss: 0.1885\n",
      "Epoch 22: Mean Ranking Loss: 0.1682\n",
      "Epoch 23: Mean Ranking Loss: 0.1486\n",
      "Epoch 24: Mean Ranking Loss: 0.1317\n",
      "Epoch 25: Mean Ranking Loss: 0.1381\n",
      "Epoch 26: Mean Ranking Loss: 0.1325\n",
      "Epoch 27: Mean Ranking Loss: 0.1334\n",
      "Epoch 28: Mean Ranking Loss: 0.1398\n",
      "Epoch 29: Mean Ranking Loss: 0.1366\n",
      "Epoch 30: Mean Ranking Loss: 0.1240\n"
     ]
    }
   ],
   "source": [
    "recommender.train(epochs=30, learning_rate=0.05, verbose=True)"
   ]
  },
  {
   "cell_type": "markdown",
   "metadata": {},
   "source": [
    "## Evaluation\n",
    "\n",
    "$MAP@10$ and $MRR@10$ with reciprocal rank of first relevant item in the recommendation list"
   ]
  },
  {
   "cell_type": "markdown",
   "metadata": {},
   "source": [
    "* train ratings"
   ]
  },
  {
   "cell_type": "code",
   "execution_count": 8,
   "metadata": {},
   "outputs": [
    {
     "data": {
      "text/plain": [
       "0.4853503184713376"
      ]
     },
     "execution_count": 8,
     "metadata": {},
     "output_type": "execute_result"
    }
   ],
   "source": [
    "retrieval_score(data.train_ratings,\n",
    "                recommender=recommender,\n",
    "                metric='map')"
   ]
  },
  {
   "cell_type": "code",
   "execution_count": 9,
   "metadata": {},
   "outputs": [
    {
     "data": {
      "text/plain": [
       "0.057078578868274915"
      ]
     },
     "execution_count": 9,
     "metadata": {},
     "output_type": "execute_result"
    }
   ],
   "source": [
    "retrieval_score(data.train_ratings,\n",
    "                recommender=recommender,\n",
    "                metric='mrr')"
   ]
  },
  {
   "cell_type": "markdown",
   "metadata": {},
   "source": [
    "* test ratings (w/o known positive removal)"
   ]
  },
  {
   "cell_type": "code",
   "execution_count": 10,
   "metadata": {},
   "outputs": [],
   "source": [
    "remove_known_pos = False  # Default"
   ]
  },
  {
   "cell_type": "code",
   "execution_count": 11,
   "metadata": {},
   "outputs": [
    {
     "data": {
      "text/plain": [
       "0.09424538545059717"
      ]
     },
     "execution_count": 11,
     "metadata": {},
     "output_type": "execute_result"
    }
   ],
   "source": [
    "retrieval_score(data.test_ratings,\n",
    "                recommender=recommender,\n",
    "                remove_known_pos=remove_known_pos,\n",
    "                metric='map')"
   ]
  },
  {
   "cell_type": "code",
   "execution_count": 12,
   "metadata": {},
   "outputs": [
    {
     "data": {
      "text/plain": [
       "0.0472300673518605"
      ]
     },
     "execution_count": 12,
     "metadata": {},
     "output_type": "execute_result"
    }
   ],
   "source": [
    "retrieval_score(data.test_ratings,\n",
    "                recommender=recommender,\n",
    "                remove_known_pos=remove_known_pos,\n",
    "                metric='mrr')"
   ]
  },
  {
   "cell_type": "markdown",
   "metadata": {},
   "source": [
    "* test ratings (w/ known positive removal)"
   ]
  },
  {
   "cell_type": "code",
   "execution_count": 13,
   "metadata": {},
   "outputs": [],
   "source": [
    "remove_known_pos = True"
   ]
  },
  {
   "cell_type": "code",
   "execution_count": 14,
   "metadata": {},
   "outputs": [
    {
     "data": {
      "text/plain": [
       "0.18773072747014116"
      ]
     },
     "execution_count": 14,
     "metadata": {},
     "output_type": "execute_result"
    }
   ],
   "source": [
    "retrieval_score(data.test_ratings,\n",
    "                recommender=recommender,\n",
    "                remove_known_pos=remove_known_pos,\n",
    "                metric='map')"
   ]
  },
  {
   "cell_type": "code",
   "execution_count": 15,
   "metadata": {},
   "outputs": [
    {
     "data": {
      "text/plain": [
       "0.08150942530733292"
      ]
     },
     "execution_count": 15,
     "metadata": {},
     "output_type": "execute_result"
    }
   ],
   "source": [
    "retrieval_score(data.test_ratings,\n",
    "                recommender=recommender,\n",
    "                remove_known_pos=remove_known_pos,\n",
    "                metric='mrr')"
   ]
  },
  {
   "cell_type": "markdown",
   "metadata": {},
   "source": [
    "### Evaluation across Epochs\n",
    "\n",
    "* train w/o known positive removal\n",
    "* test w/ known positive removal)"
   ]
  },
  {
   "cell_type": "code",
   "execution_count": 17,
   "metadata": {},
   "outputs": [
    {
     "name": "stdout",
     "output_type": "stream",
     "text": [
      "Training and Evaluation Epoch 01\n",
      "Training and Evaluation Epoch 02\n",
      "Training and Evaluation Epoch 03\n",
      "Training and Evaluation Epoch 04\n",
      "Training and Evaluation Epoch 05\n",
      "Training and Evaluation Epoch 06\n",
      "Training and Evaluation Epoch 07\n",
      "Training and Evaluation Epoch 08\n",
      "Training and Evaluation Epoch 09\n",
      "Training and Evaluation Epoch 10\n",
      "Training and Evaluation Epoch 11\n",
      "Training and Evaluation Epoch 12\n",
      "Training and Evaluation Epoch 13\n",
      "Training and Evaluation Epoch 14\n",
      "Training and Evaluation Epoch 15\n",
      "Training and Evaluation Epoch 16\n",
      "Training and Evaluation Epoch 17\n",
      "Training and Evaluation Epoch 18\n",
      "Training and Evaluation Epoch 19\n",
      "Training and Evaluation Epoch 20\n",
      "Training and Evaluation Epoch 21\n",
      "Training and Evaluation Epoch 22\n",
      "Training and Evaluation Epoch 23\n",
      "Training and Evaluation Epoch 24\n",
      "Training and Evaluation Epoch 25\n",
      "Training and Evaluation Epoch 26\n",
      "Training and Evaluation Epoch 27\n",
      "Training and Evaluation Epoch 28\n",
      "Training and Evaluation Epoch 29\n",
      "Training and Evaluation Epoch 30\n"
     ]
    }
   ],
   "source": [
    "model = BPRRecommender(data.train_ratings, data.users, data.items,\n",
    "                       k=k, N=N, seed=seed)\n",
    "map_train_trace = []\n",
    "map_test_trace = []\n",
    "epochs = 30\n",
    "\n",
    "for epoch in range(epochs):\n",
    "    print(f\"Training and Evaluation Epoch {epoch+1:02d}\")\n",
    "    model.train(epochs=1, learning_rate=0.05, verbose=False)\n",
    "    train_map_at_k = retrieval_score(data.train_ratings,\n",
    "                                     recommender=model,\n",
    "                                     metric='map')\n",
    "    test_map_at_k = retrieval_score(data.test_ratings,\n",
    "                                    recommender=model,\n",
    "                                    remove_known_pos=True,\n",
    "                                    metric='map')\n",
    "    map_test_trace.append(test_map_at_k)\n",
    "    map_train_trace.append(train_map_at_k)"
   ]
  },
  {
   "cell_type": "code",
   "execution_count": 21,
   "metadata": {},
   "outputs": [
    {
     "data": {
      "image/png": "[encoded data removed]",
      "text/plain": [
       "<Figure size 1152x576 with 1 Axes>"
      ]
     },
     "metadata": {
      "needs_background": "light"
     },
     "output_type": "display_data"
    }
   ],
   "source": [
    "plt.figure(figsize=(16, 8))\n",
    "plt.plot(range(epochs), map_train_trace, 'r--')\n",
    "plt.plot(range(epochs), map_test_trace, 'b--')\n",
    "plt.xlabel('Epoch')\n",
    "plt.ylabel('MAP@10')\n",
    "plt.grid(True)\n",
    "plt.show()"
   ]
  }
 ],
 "metadata": {
  "kernelspec": {
   "display_name": "Python 3",
   "language": "python",
   "name": "python3"
  },
  "language_info": {
   "codemirror_mode": {
    "name": "ipython",
    "version": 3
   },
   "file_extension": ".py",
   "mimetype": "text/x-python",
   "name": "python",
   "nbconvert_exporter": "python",
   "pygments_lexer": "ipython3",
   "version": "3.7.5"
  }
 },
 "nbformat": 4,
 "nbformat_minor": 4
}
