{
 "cells": [
  {
   "cell_type": "markdown",
   "metadata": {},
   "source": [
    "# Unit 2: Popularity Recommendations"
   ]
  },
  {
   "cell_type": "markdown",
   "metadata": {},
   "source": [
    "In this section we build a recommender that sorts items by popularity as of the number of ratings they received. As a result we return the $N$ most popular items as recommendations."
   ]
  },
  {
   "cell_type": "code",
   "execution_count": 1,
   "metadata": {},
   "outputs": [],
   "source": [
    "from typing import Dict, List\n",
    "\n",
    "import numpy as np\n",
    "import pandas as pd\n",
    "from scipy.stats import spearmanr"
   ]
  },
  {
   "cell_type": "code",
   "execution_count": 2,
   "metadata": {},
   "outputs": [],
   "source": [
    "from recsys_training.data import Dataset"
   ]
  },
  {
   "cell_type": "code",
   "execution_count": 3,
   "metadata": {},
   "outputs": [],
   "source": [
    "ml100k_ratings_filepath = '../../data/raw/ml-100k/u.data'"
   ]
  },
  {
   "cell_type": "markdown",
   "metadata": {},
   "source": [
    "## Load Data"
   ]
  },
  {
   "cell_type": "markdown",
   "metadata": {},
   "source": [
    "We load the dataset with 100000 ratings and split it 80/20 into train and test set."
   ]
  },
  {
   "cell_type": "code",
   "execution_count": 4,
   "metadata": {},
   "outputs": [],
   "source": [
    "data = Dataset(ml100k_ratings_filepath)\n",
    "data.rating_split(seed=42)"
   ]
  },
  {
   "cell_type": "code",
   "execution_count": 5,
   "metadata": {},
   "outputs": [
    {
     "data": {
      "text/html": [
       "<div>\n",
       "<style scoped>\n",
       "    .dataframe tbody tr th:only-of-type {\n",
       "        vertical-align: middle;\n",
       "    }\n",
       "\n",
       "    .dataframe tbody tr th {\n",
       "        vertical-align: top;\n",
       "    }\n",
       "\n",
       "    .dataframe thead th {\n",
       "        text-align: right;\n",
       "    }\n",
       "</style>\n",
       "<table border=\"1\" class=\"dataframe\">\n",
       "  <thead>\n",
       "    <tr style=\"text-align: right;\">\n",
       "      <th></th>\n",
       "      <th>user</th>\n",
       "      <th>item</th>\n",
       "      <th>rating</th>\n",
       "      <th>timestamp</th>\n",
       "    </tr>\n",
       "  </thead>\n",
       "  <tbody>\n",
       "    <tr>\n",
       "      <th>75721</th>\n",
       "      <td>877</td>\n",
       "      <td>381</td>\n",
       "      <td>4</td>\n",
       "      <td>882677345</td>\n",
       "    </tr>\n",
       "    <tr>\n",
       "      <th>80184</th>\n",
       "      <td>815</td>\n",
       "      <td>602</td>\n",
       "      <td>3</td>\n",
       "      <td>878694269</td>\n",
       "    </tr>\n",
       "    <tr>\n",
       "      <th>19864</th>\n",
       "      <td>94</td>\n",
       "      <td>431</td>\n",
       "      <td>4</td>\n",
       "      <td>891721716</td>\n",
       "    </tr>\n",
       "    <tr>\n",
       "      <th>76699</th>\n",
       "      <td>416</td>\n",
       "      <td>875</td>\n",
       "      <td>2</td>\n",
       "      <td>876696938</td>\n",
       "    </tr>\n",
       "    <tr>\n",
       "      <th>92991</th>\n",
       "      <td>500</td>\n",
       "      <td>182</td>\n",
       "      <td>2</td>\n",
       "      <td>883873556</td>\n",
       "    </tr>\n",
       "    <tr>\n",
       "      <th>...</th>\n",
       "      <td>...</td>\n",
       "      <td>...</td>\n",
       "      <td>...</td>\n",
       "      <td>...</td>\n",
       "    </tr>\n",
       "    <tr>\n",
       "      <th>6306</th>\n",
       "      <td>92</td>\n",
       "      <td>48</td>\n",
       "      <td>4</td>\n",
       "      <td>875653307</td>\n",
       "    </tr>\n",
       "    <tr>\n",
       "      <th>51901</th>\n",
       "      <td>671</td>\n",
       "      <td>54</td>\n",
       "      <td>3</td>\n",
       "      <td>884035173</td>\n",
       "    </tr>\n",
       "    <tr>\n",
       "      <th>6028</th>\n",
       "      <td>1</td>\n",
       "      <td>96</td>\n",
       "      <td>5</td>\n",
       "      <td>875072716</td>\n",
       "    </tr>\n",
       "    <tr>\n",
       "      <th>58507</th>\n",
       "      <td>82</td>\n",
       "      <td>169</td>\n",
       "      <td>4</td>\n",
       "      <td>878769442</td>\n",
       "    </tr>\n",
       "    <tr>\n",
       "      <th>2458</th>\n",
       "      <td>308</td>\n",
       "      <td>378</td>\n",
       "      <td>3</td>\n",
       "      <td>887740700</td>\n",
       "    </tr>\n",
       "  </tbody>\n",
       "</table>\n",
       "<p>80000 rows × 4 columns</p>\n",
       "</div>"
      ],
      "text/plain": [
       "       user  item  rating  timestamp\n",
       "75721   877   381       4  882677345\n",
       "80184   815   602       3  878694269\n",
       "19864    94   431       4  891721716\n",
       "76699   416   875       2  876696938\n",
       "92991   500   182       2  883873556\n",
       "...     ...   ...     ...        ...\n",
       "6306     92    48       4  875653307\n",
       "51901   671    54       3  884035173\n",
       "6028      1    96       5  875072716\n",
       "58507    82   169       4  878769442\n",
       "2458    308   378       3  887740700\n",
       "\n",
       "[80000 rows x 4 columns]"
      ]
     },
     "execution_count": 5,
     "metadata": {},
     "output_type": "execute_result"
    }
   ],
   "source": [
    "data.train_ratings"
   ]
  },
  {
   "cell_type": "code",
   "execution_count": 6,
   "metadata": {},
   "outputs": [
    {
     "data": {
      "text/html": [
       "<div>\n",
       "<style scoped>\n",
       "    .dataframe tbody tr th:only-of-type {\n",
       "        vertical-align: middle;\n",
       "    }\n",
       "\n",
       "    .dataframe tbody tr th {\n",
       "        vertical-align: top;\n",
       "    }\n",
       "\n",
       "    .dataframe thead th {\n",
       "        text-align: right;\n",
       "    }\n",
       "</style>\n",
       "<table border=\"1\" class=\"dataframe\">\n",
       "  <thead>\n",
       "    <tr style=\"text-align: right;\">\n",
       "      <th></th>\n",
       "      <th>user</th>\n",
       "      <th>item</th>\n",
       "      <th>rating</th>\n",
       "      <th>timestamp</th>\n",
       "    </tr>\n",
       "  </thead>\n",
       "  <tbody>\n",
       "    <tr>\n",
       "      <th>98877</th>\n",
       "      <td>907</td>\n",
       "      <td>143</td>\n",
       "      <td>5</td>\n",
       "      <td>880159982</td>\n",
       "    </tr>\n",
       "    <tr>\n",
       "      <th>24044</th>\n",
       "      <td>371</td>\n",
       "      <td>210</td>\n",
       "      <td>4</td>\n",
       "      <td>880435313</td>\n",
       "    </tr>\n",
       "    <tr>\n",
       "      <th>48435</th>\n",
       "      <td>218</td>\n",
       "      <td>42</td>\n",
       "      <td>4</td>\n",
       "      <td>877488546</td>\n",
       "    </tr>\n",
       "    <tr>\n",
       "      <th>72179</th>\n",
       "      <td>829</td>\n",
       "      <td>170</td>\n",
       "      <td>4</td>\n",
       "      <td>881698933</td>\n",
       "    </tr>\n",
       "    <tr>\n",
       "      <th>80645</th>\n",
       "      <td>733</td>\n",
       "      <td>277</td>\n",
       "      <td>1</td>\n",
       "      <td>879536523</td>\n",
       "    </tr>\n",
       "    <tr>\n",
       "      <th>...</th>\n",
       "      <td>...</td>\n",
       "      <td>...</td>\n",
       "      <td>...</td>\n",
       "      <td>...</td>\n",
       "    </tr>\n",
       "    <tr>\n",
       "      <th>6265</th>\n",
       "      <td>216</td>\n",
       "      <td>231</td>\n",
       "      <td>2</td>\n",
       "      <td>880245109</td>\n",
       "    </tr>\n",
       "    <tr>\n",
       "      <th>54886</th>\n",
       "      <td>343</td>\n",
       "      <td>276</td>\n",
       "      <td>5</td>\n",
       "      <td>876403078</td>\n",
       "    </tr>\n",
       "    <tr>\n",
       "      <th>76820</th>\n",
       "      <td>437</td>\n",
       "      <td>475</td>\n",
       "      <td>3</td>\n",
       "      <td>880140288</td>\n",
       "    </tr>\n",
       "    <tr>\n",
       "      <th>860</th>\n",
       "      <td>284</td>\n",
       "      <td>322</td>\n",
       "      <td>3</td>\n",
       "      <td>885329671</td>\n",
       "    </tr>\n",
       "    <tr>\n",
       "      <th>15795</th>\n",
       "      <td>222</td>\n",
       "      <td>200</td>\n",
       "      <td>3</td>\n",
       "      <td>878181647</td>\n",
       "    </tr>\n",
       "  </tbody>\n",
       "</table>\n",
       "<p>20000 rows × 4 columns</p>\n",
       "</div>"
      ],
      "text/plain": [
       "       user  item  rating  timestamp\n",
       "98877   907   143       5  880159982\n",
       "24044   371   210       4  880435313\n",
       "48435   218    42       4  877488546\n",
       "72179   829   170       4  881698933\n",
       "80645   733   277       1  879536523\n",
       "...     ...   ...     ...        ...\n",
       "6265    216   231       2  880245109\n",
       "54886   343   276       5  876403078\n",
       "76820   437   475       3  880140288\n",
       "860     284   322       3  885329671\n",
       "15795   222   200       3  878181647\n",
       "\n",
       "[20000 rows x 4 columns]"
      ]
     },
     "execution_count": 6,
     "metadata": {},
     "output_type": "execute_result"
    }
   ],
   "source": [
    "data.test_ratings"
   ]
  },
  {
   "cell_type": "markdown",
   "metadata": {},
   "source": [
    "Build a Mapping from user id to his or her item ratings. We will need this later."
   ]
  },
  {
   "cell_type": "code",
   "execution_count": 7,
   "metadata": {},
   "outputs": [],
   "source": [
    "# build user rating maps\n",
    "user_ratings = {}\n",
    "grouped = data.train_ratings[['user', 'item', 'rating']].groupby('user')\n",
    "for user in data.users:\n",
    "    vals = grouped.get_group(user)[['item', 'rating']].values\n",
    "    user_ratings[user] = dict(zip(vals[:, 0].astype(int),\n",
    "                                  vals[:, 1].astype(float)))"
   ]
  },
  {
   "cell_type": "code",
   "execution_count": 8,
   "metadata": {},
   "outputs": [
    {
     "data": {
      "text/plain": [
       "{233: 2.0,\n",
       " 159: 3.0,\n",
       " 238: 4.0,\n",
       " 100: 5.0,\n",
       " 63: 2.0,\n",
       " 192: 4.0,\n",
       " 181: 5.0,\n",
       " 6: 5.0,\n",
       " 103: 1.0,\n",
       " 156: 4.0,\n",
       " 259: 1.0,\n",
       " 258: 5.0,\n",
       " 31: 3.0,\n",
       " 155: 2.0,\n",
       " 142: 2.0,\n",
       " 38: 3.0,\n",
       " 206: 4.0,\n",
       " 217: 3.0,\n",
       " 263: 1.0,\n",
       " 193: 4.0,\n",
       " 221: 5.0,\n",
       " 82: 5.0,\n",
       " 197: 5.0,\n",
       " 147: 3.0,\n",
       " 245: 2.0,\n",
       " 265: 4.0,\n",
       " 141: 3.0,\n",
       " 77: 4.0,\n",
       " 58: 4.0,\n",
       " 26: 3.0,\n",
       " 249: 4.0,\n",
       " 95: 4.0,\n",
       " 220: 3.0,\n",
       " 66: 4.0,\n",
       " 110: 1.0,\n",
       " 153: 3.0,\n",
       " 204: 5.0,\n",
       " 237: 2.0,\n",
       " 267: 4.0,\n",
       " 157: 4.0,\n",
       " 1: 5.0,\n",
       " 68: 4.0,\n",
       " 230: 4.0,\n",
       " 8: 1.0,\n",
       " 119: 5.0,\n",
       " 51: 4.0,\n",
       " 4: 3.0,\n",
       " 158: 3.0,\n",
       " 115: 5.0,\n",
       " 78: 1.0,\n",
       " 186: 4.0,\n",
       " 256: 4.0,\n",
       " 262: 3.0,\n",
       " 20: 4.0,\n",
       " 136: 3.0,\n",
       " 64: 5.0,\n",
       " 21: 1.0,\n",
       " 241: 4.0,\n",
       " 118: 3.0,\n",
       " 149: 2.0,\n",
       " 32: 5.0,\n",
       " 94: 2.0,\n",
       " 254: 1.0,\n",
       " 80: 4.0,\n",
       " 83: 3.0,\n",
       " 36: 2.0,\n",
       " 30: 3.0,\n",
       " 168: 5.0,\n",
       " 151: 4.0,\n",
       " 53: 3.0,\n",
       " 216: 5.0,\n",
       " 61: 4.0,\n",
       " 70: 3.0,\n",
       " 10: 3.0,\n",
       " 44: 5.0,\n",
       " 164: 3.0,\n",
       " 71: 3.0,\n",
       " 116: 3.0,\n",
       " 33: 4.0,\n",
       " 3: 4.0,\n",
       " 189: 3.0,\n",
       " 211: 3.0,\n",
       " 260: 1.0,\n",
       " 269: 5.0,\n",
       " 176: 5.0,\n",
       " 91: 5.0,\n",
       " 169: 5.0,\n",
       " 47: 4.0,\n",
       " 165: 5.0,\n",
       " 45: 5.0,\n",
       " 124: 5.0,\n",
       " 57: 5.0,\n",
       " 200: 3.0,\n",
       " 266: 1.0,\n",
       " 231: 1.0,\n",
       " 42: 5.0,\n",
       " 7: 4.0,\n",
       " 69: 3.0,\n",
       " 187: 4.0,\n",
       " 154: 5.0,\n",
       " 16: 5.0,\n",
       " 128: 4.0,\n",
       " 194: 4.0,\n",
       " 171: 5.0,\n",
       " 209: 4.0,\n",
       " 87: 5.0,\n",
       " 135: 4.0,\n",
       " 75: 4.0,\n",
       " 228: 5.0,\n",
       " 201: 3.0,\n",
       " 50: 5.0,\n",
       " 104: 1.0,\n",
       " 48: 5.0,\n",
       " 74: 1.0,\n",
       " 35: 1.0,\n",
       " 185: 4.0,\n",
       " 148: 2.0,\n",
       " 208: 5.0,\n",
       " 178: 5.0,\n",
       " 226: 3.0,\n",
       " 250: 4.0,\n",
       " 172: 5.0,\n",
       " 105: 2.0,\n",
       " 92: 3.0,\n",
       " 12: 5.0,\n",
       " 240: 3.0,\n",
       " 223: 5.0,\n",
       " 219: 1.0,\n",
       " 145: 2.0,\n",
       " 139: 3.0,\n",
       " 166: 5.0,\n",
       " 109: 5.0,\n",
       " 225: 2.0,\n",
       " 14: 5.0,\n",
       " 62: 3.0,\n",
       " 89: 5.0,\n",
       " 85: 3.0,\n",
       " 65: 4.0,\n",
       " 107: 4.0,\n",
       " 229: 4.0,\n",
       " 234: 4.0,\n",
       " 244: 2.0,\n",
       " 140: 1.0,\n",
       " 81: 5.0,\n",
       " 253: 5.0,\n",
       " 212: 4.0,\n",
       " 215: 3.0,\n",
       " 73: 3.0,\n",
       " 19: 5.0,\n",
       " 67: 3.0,\n",
       " 162: 4.0,\n",
       " 97: 3.0,\n",
       " 272: 3.0,\n",
       " 191: 5.0,\n",
       " 232: 3.0,\n",
       " 173: 5.0,\n",
       " 90: 4.0,\n",
       " 138: 1.0,\n",
       " 52: 4.0,\n",
       " 113: 5.0,\n",
       " 127: 5.0,\n",
       " 22: 4.0,\n",
       " 179: 3.0,\n",
       " 49: 3.0,\n",
       " 152: 5.0,\n",
       " 248: 4.0,\n",
       " 235: 5.0,\n",
       " 144: 4.0,\n",
       " 125: 3.0,\n",
       " 76: 4.0,\n",
       " 25: 4.0,\n",
       " 86: 5.0,\n",
       " 102: 2.0,\n",
       " 40: 3.0,\n",
       " 198: 5.0,\n",
       " 243: 1.0,\n",
       " 160: 4.0,\n",
       " 174: 5.0,\n",
       " 161: 4.0,\n",
       " 163: 4.0,\n",
       " 79: 4.0,\n",
       " 261: 1.0,\n",
       " 23: 4.0,\n",
       " 114: 5.0,\n",
       " 29: 1.0,\n",
       " 60: 5.0,\n",
       " 129: 5.0,\n",
       " 132: 4.0,\n",
       " 84: 4.0,\n",
       " 46: 4.0,\n",
       " 271: 2.0,\n",
       " 177: 5.0,\n",
       " 41: 2.0,\n",
       " 11: 2.0,\n",
       " 18: 4.0,\n",
       " 37: 2.0,\n",
       " 236: 4.0,\n",
       " 111: 5.0,\n",
       " 150: 5.0,\n",
       " 205: 3.0,\n",
       " 54: 3.0,\n",
       " 108: 5.0,\n",
       " 247: 1.0,\n",
       " 195: 5.0,\n",
       " 24: 3.0,\n",
       " 133: 4.0,\n",
       " 56: 4.0,\n",
       " 117: 3.0,\n",
       " 199: 4.0,\n",
       " 96: 5.0}"
      ]
     },
     "execution_count": 8,
     "metadata": {},
     "output_type": "execute_result"
    }
   ],
   "source": [
    "user_ratings[1]"
   ]
  },
  {
   "cell_type": "markdown",
   "metadata": {},
   "source": [
    "## Popularity Ranking"
   ]
  },
  {
   "cell_type": "markdown",
   "metadata": {},
   "source": [
    "How do we define _popularity_? It turns out that there can be different things justifying the popularity of content:\n",
    "- pure count: simply count the number of ratings or interactions an item received regardless of their quality\n",
    "- positive count: only count the number of ratings or interactions that we assume reflect preference towards items, e.g. ratings above user mean ratings\n",
    "- time-dependency: despite evergreen stars items may also be popular for a limited time only - how can we account for this?\n",
    "\n",
    "However, popularity ranking entails no personalization. We obtain a single popularity ranking of items which is independent from the user and serve the same top-$k$ items to every user."
   ]
  },
  {
   "cell_type": "markdown",
   "metadata": {},
   "source": [
    "### Popularity based on simple Interaction Counts"
   ]
  },
  {
   "cell_type": "markdown",
   "metadata": {},
   "source": [
    "![Parrot](\"parrot.png\")\n",
    "\n",
    "**Task**: Infer the item popularity order from training ratings as an array with items in descending order of popularity."
   ]
  },
  {
   "cell_type": "code",
   "execution_count": 9,
   "metadata": {},
   "outputs": [],
   "source": [
    "item_popularity = data.train_ratings['item'].value_counts()"
   ]
  },
  {
   "cell_type": "code",
   "execution_count": 10,
   "metadata": {},
   "outputs": [
    {
     "data": {
      "text/plain": [
       "50      471\n",
       "181     423\n",
       "258     409\n",
       "100     405\n",
       "294     394\n",
       "       ... \n",
       "1320      1\n",
       "1669      1\n",
       "1576      1\n",
       "1541      1\n",
       "1663      1\n",
       "Name: item, Length: 1651, dtype: int64"
      ]
     },
     "execution_count": 10,
     "metadata": {},
     "output_type": "execute_result"
    }
   ],
   "source": [
    "item_popularity"
   ]
  },
  {
   "cell_type": "code",
   "execution_count": 11,
   "metadata": {},
   "outputs": [],
   "source": [
    "item_order = item_popularity.index.values"
   ]
  },
  {
   "cell_type": "code",
   "execution_count": 12,
   "metadata": {},
   "outputs": [
    {
     "data": {
      "text/plain": [
       "array([  50,  181,  258, ..., 1576, 1541, 1663])"
      ]
     },
     "execution_count": 12,
     "metadata": {},
     "output_type": "execute_result"
    }
   ],
   "source": [
    "item_order"
   ]
  },
  {
   "cell_type": "markdown",
   "metadata": {},
   "source": [
    "### Popularity based on positive Interaction Counts\n",
    "\n",
    "Therefore, we must first remove all ratings that fall below the mean user rating which we assume to be the individual threshold between positive and negative item opinion."
   ]
  },
  {
   "cell_type": "code",
   "execution_count": 13,
   "metadata": {},
   "outputs": [],
   "source": [
    "user_mean_ratings = data.train_ratings[['user', 'rating']].groupby('user')\n",
    "user_mean_ratings = user_mean_ratings.mean().reset_index()\n",
    "user_mean_ratings.rename(columns={'rating': 'user_mean_rating'},\n",
    "                         inplace=True)"
   ]
  },
  {
   "cell_type": "code",
   "execution_count": 14,
   "metadata": {},
   "outputs": [
    {
     "data": {
      "text/html": [
       "<div>\n",
       "<style scoped>\n",
       "    .dataframe tbody tr th:only-of-type {\n",
       "        vertical-align: middle;\n",
       "    }\n",
       "\n",
       "    .dataframe tbody tr th {\n",
       "        vertical-align: top;\n",
       "    }\n",
       "\n",
       "    .dataframe thead th {\n",
       "        text-align: right;\n",
       "    }\n",
       "</style>\n",
       "<table border=\"1\" class=\"dataframe\">\n",
       "  <thead>\n",
       "    <tr style=\"text-align: right;\">\n",
       "      <th></th>\n",
       "      <th>user</th>\n",
       "      <th>user_mean_rating</th>\n",
       "    </tr>\n",
       "  </thead>\n",
       "  <tbody>\n",
       "    <tr>\n",
       "      <th>0</th>\n",
       "      <td>1</td>\n",
       "      <td>3.590476</td>\n",
       "    </tr>\n",
       "    <tr>\n",
       "      <th>1</th>\n",
       "      <td>2</td>\n",
       "      <td>3.673469</td>\n",
       "    </tr>\n",
       "    <tr>\n",
       "      <th>2</th>\n",
       "      <td>3</td>\n",
       "      <td>2.809524</td>\n",
       "    </tr>\n",
       "    <tr>\n",
       "      <th>3</th>\n",
       "      <td>4</td>\n",
       "      <td>4.333333</td>\n",
       "    </tr>\n",
       "    <tr>\n",
       "      <th>4</th>\n",
       "      <td>5</td>\n",
       "      <td>2.925373</td>\n",
       "    </tr>\n",
       "    <tr>\n",
       "      <th>...</th>\n",
       "      <td>...</td>\n",
       "      <td>...</td>\n",
       "    </tr>\n",
       "    <tr>\n",
       "      <th>938</th>\n",
       "      <td>939</td>\n",
       "      <td>4.292683</td>\n",
       "    </tr>\n",
       "    <tr>\n",
       "      <th>939</th>\n",
       "      <td>940</td>\n",
       "      <td>3.425287</td>\n",
       "    </tr>\n",
       "    <tr>\n",
       "      <th>940</th>\n",
       "      <td>941</td>\n",
       "      <td>3.947368</td>\n",
       "    </tr>\n",
       "    <tr>\n",
       "      <th>941</th>\n",
       "      <td>942</td>\n",
       "      <td>4.234375</td>\n",
       "    </tr>\n",
       "    <tr>\n",
       "      <th>942</th>\n",
       "      <td>943</td>\n",
       "      <td>3.518519</td>\n",
       "    </tr>\n",
       "  </tbody>\n",
       "</table>\n",
       "<p>943 rows × 2 columns</p>\n",
       "</div>"
      ],
      "text/plain": [
       "     user  user_mean_rating\n",
       "0       1          3.590476\n",
       "1       2          3.673469\n",
       "2       3          2.809524\n",
       "3       4          4.333333\n",
       "4       5          2.925373\n",
       "..    ...               ...\n",
       "938   939          4.292683\n",
       "939   940          3.425287\n",
       "940   941          3.947368\n",
       "941   942          4.234375\n",
       "942   943          3.518519\n",
       "\n",
       "[943 rows x 2 columns]"
      ]
     },
     "execution_count": 14,
     "metadata": {},
     "output_type": "execute_result"
    }
   ],
   "source": [
    "user_mean_ratings"
   ]
  },
  {
   "cell_type": "code",
   "execution_count": 15,
   "metadata": {},
   "outputs": [],
   "source": [
    "positive_train_ratings = data.train_ratings.merge(user_mean_ratings,\n",
    "                                                  on='user',\n",
    "                                                  how='left')"
   ]
  },
  {
   "cell_type": "code",
   "execution_count": 16,
   "metadata": {},
   "outputs": [],
   "source": [
    "keep_ratings = (positive_train_ratings['rating'] >= positive_train_ratings['user_mean_rating'])"
   ]
  },
  {
   "cell_type": "code",
   "execution_count": 17,
   "metadata": {},
   "outputs": [],
   "source": [
    "positive_train_ratings = positive_train_ratings[keep_ratings]\n",
    "positive_train_ratings.drop(columns='user_mean_rating', inplace=True)"
   ]
  },
  {
   "cell_type": "code",
   "execution_count": 18,
   "metadata": {},
   "outputs": [
    {
     "data": {
      "text/html": [
       "<div>\n",
       "<style scoped>\n",
       "    .dataframe tbody tr th:only-of-type {\n",
       "        vertical-align: middle;\n",
       "    }\n",
       "\n",
       "    .dataframe tbody tr th {\n",
       "        vertical-align: top;\n",
       "    }\n",
       "\n",
       "    .dataframe thead th {\n",
       "        text-align: right;\n",
       "    }\n",
       "</style>\n",
       "<table border=\"1\" class=\"dataframe\">\n",
       "  <thead>\n",
       "    <tr style=\"text-align: right;\">\n",
       "      <th></th>\n",
       "      <th>user</th>\n",
       "      <th>item</th>\n",
       "      <th>rating</th>\n",
       "      <th>timestamp</th>\n",
       "    </tr>\n",
       "  </thead>\n",
       "  <tbody>\n",
       "    <tr>\n",
       "      <th>0</th>\n",
       "      <td>877</td>\n",
       "      <td>381</td>\n",
       "      <td>4</td>\n",
       "      <td>882677345</td>\n",
       "    </tr>\n",
       "    <tr>\n",
       "      <th>2</th>\n",
       "      <td>94</td>\n",
       "      <td>431</td>\n",
       "      <td>4</td>\n",
       "      <td>891721716</td>\n",
       "    </tr>\n",
       "    <tr>\n",
       "      <th>6</th>\n",
       "      <td>598</td>\n",
       "      <td>286</td>\n",
       "      <td>5</td>\n",
       "      <td>886711452</td>\n",
       "    </tr>\n",
       "    <tr>\n",
       "      <th>7</th>\n",
       "      <td>886</td>\n",
       "      <td>496</td>\n",
       "      <td>4</td>\n",
       "      <td>876031952</td>\n",
       "    </tr>\n",
       "    <tr>\n",
       "      <th>9</th>\n",
       "      <td>521</td>\n",
       "      <td>184</td>\n",
       "      <td>4</td>\n",
       "      <td>884478358</td>\n",
       "    </tr>\n",
       "    <tr>\n",
       "      <th>...</th>\n",
       "      <td>...</td>\n",
       "      <td>...</td>\n",
       "      <td>...</td>\n",
       "      <td>...</td>\n",
       "    </tr>\n",
       "    <tr>\n",
       "      <th>79989</th>\n",
       "      <td>200</td>\n",
       "      <td>673</td>\n",
       "      <td>5</td>\n",
       "      <td>884128554</td>\n",
       "    </tr>\n",
       "    <tr>\n",
       "      <th>79993</th>\n",
       "      <td>44</td>\n",
       "      <td>432</td>\n",
       "      <td>5</td>\n",
       "      <td>878347569</td>\n",
       "    </tr>\n",
       "    <tr>\n",
       "      <th>79995</th>\n",
       "      <td>92</td>\n",
       "      <td>48</td>\n",
       "      <td>4</td>\n",
       "      <td>875653307</td>\n",
       "    </tr>\n",
       "    <tr>\n",
       "      <th>79997</th>\n",
       "      <td>1</td>\n",
       "      <td>96</td>\n",
       "      <td>5</td>\n",
       "      <td>875072716</td>\n",
       "    </tr>\n",
       "    <tr>\n",
       "      <th>79998</th>\n",
       "      <td>82</td>\n",
       "      <td>169</td>\n",
       "      <td>4</td>\n",
       "      <td>878769442</td>\n",
       "    </tr>\n",
       "  </tbody>\n",
       "</table>\n",
       "<p>42993 rows × 4 columns</p>\n",
       "</div>"
      ],
      "text/plain": [
       "       user  item  rating  timestamp\n",
       "0       877   381       4  882677345\n",
       "2        94   431       4  891721716\n",
       "6       598   286       5  886711452\n",
       "7       886   496       4  876031952\n",
       "9       521   184       4  884478358\n",
       "...     ...   ...     ...        ...\n",
       "79989   200   673       5  884128554\n",
       "79993    44   432       5  878347569\n",
       "79995    92    48       4  875653307\n",
       "79997     1    96       5  875072716\n",
       "79998    82   169       4  878769442\n",
       "\n",
       "[42993 rows x 4 columns]"
      ]
     },
     "execution_count": 18,
     "metadata": {},
     "output_type": "execute_result"
    }
   ],
   "source": [
    "positive_train_ratings"
   ]
  },
  {
   "cell_type": "code",
   "execution_count": 19,
   "metadata": {},
   "outputs": [],
   "source": [
    "item_popularity_positive = positive_train_ratings.item.value_counts()"
   ]
  },
  {
   "cell_type": "code",
   "execution_count": 20,
   "metadata": {},
   "outputs": [
    {
     "data": {
      "text/plain": [
       "50      395\n",
       "100     319\n",
       "181     303\n",
       "174     278\n",
       "127     273\n",
       "       ... \n",
       "1534      1\n",
       "1598      1\n",
       "1630      1\n",
       "1662      1\n",
       "1631      1\n",
       "Name: item, Length: 1451, dtype: int64"
      ]
     },
     "execution_count": 20,
     "metadata": {},
     "output_type": "execute_result"
    }
   ],
   "source": [
    "item_popularity_positive"
   ]
  },
  {
   "cell_type": "code",
   "execution_count": 21,
   "metadata": {},
   "outputs": [],
   "source": [
    "item_order_positive = item_popularity.index.values"
   ]
  },
  {
   "cell_type": "markdown",
   "metadata": {},
   "source": [
    "#### How strong do both orderings correlate with each other?"
   ]
  },
  {
   "cell_type": "markdown",
   "metadata": {},
   "source": [
    "Check spearman rank correlation between both orderings to quantify the distortion in ordering."
   ]
  },
  {
   "cell_type": "code",
   "execution_count": 22,
   "metadata": {},
   "outputs": [],
   "source": [
    "joint_counts = [[item_popularity.loc[item], item_popularity_positive[item]]\n",
    "                for item in np.intersect1d(item_popularity_positive.index.values,\n",
    "                                           item_popularity.index.values)]\n",
    "joint_counts = np.array(joint_counts)"
   ]
  },
  {
   "cell_type": "code",
   "execution_count": 23,
   "metadata": {},
   "outputs": [
    {
     "data": {
      "text/plain": [
       "array([[365, 252],\n",
       "       [105,  40],\n",
       "       [ 72,  28],\n",
       "       ...,\n",
       "       [  4,   3],\n",
       "       [  1,   1],\n",
       "       [  1,   1]])"
      ]
     },
     "execution_count": 23,
     "metadata": {},
     "output_type": "execute_result"
    }
   ],
   "source": [
    "joint_counts"
   ]
  },
  {
   "cell_type": "code",
   "execution_count": 24,
   "metadata": {},
   "outputs": [
    {
     "data": {
      "text/plain": [
       "SpearmanrResult(correlation=0.946241194276375, pvalue=0.0)"
      ]
     },
     "execution_count": 24,
     "metadata": {},
     "output_type": "execute_result"
    }
   ],
   "source": [
    "spearmanr(joint_counts)"
   ]
  },
  {
   "cell_type": "markdown",
   "metadata": {},
   "source": [
    "### Using Popularity Ordering for top-$N$ Recommendations"
   ]
  },
  {
   "cell_type": "code",
   "execution_count": 25,
   "metadata": {},
   "outputs": [
    {
     "data": {
      "text/plain": [
       "array([  50,  181,  258, ..., 1576, 1541, 1663])"
      ]
     },
     "execution_count": 25,
     "metadata": {},
     "output_type": "execute_result"
    }
   ],
   "source": [
    "item_order"
   ]
  },
  {
   "cell_type": "code",
   "execution_count": 26,
   "metadata": {},
   "outputs": [
    {
     "data": {
      "text/plain": [
       "array([  50,  181,  258, ..., 1576, 1541, 1663])"
      ]
     },
     "execution_count": 26,
     "metadata": {},
     "output_type": "execute_result"
    }
   ],
   "source": [
    "item_order_positive"
   ]
  },
  {
   "cell_type": "markdown",
   "metadata": {},
   "source": [
    "![Parrot](\"parrot.png\")\n",
    "\n",
    "**Task**: Write the method `get_recommendation` that returns the top-$N$ items without any known positives, i.e. items the user has already viewed."
   ]
  },
  {
   "cell_type": "code",
   "execution_count": 27,
   "metadata": {},
   "outputs": [],
   "source": [
    "def get_recommendations(user: int,\n",
    "                        user_ratings: dict,\n",
    "                        item_popularity_order: np.array,\n",
    "                        N: int) -> List[int]:\n",
    "    known_positives = list(user_ratings[user].keys())\n",
    "    recommendations = np.setdiff1d(item_popularity_order,\n",
    "                                   known_positives)[:N]\n",
    "    \n",
    "    return recommendations"
   ]
  },
  {
   "cell_type": "code",
   "execution_count": 28,
   "metadata": {},
   "outputs": [
    {
     "data": {
      "text/plain": [
       "array([ 2,  5,  9, 13, 15, 17, 27, 28, 34, 39])"
      ]
     },
     "execution_count": 28,
     "metadata": {},
     "output_type": "execute_result"
    }
   ],
   "source": [
    "get_recommendations(1, user_ratings, item_order, 10)"
   ]
  },
  {
   "cell_type": "markdown",
   "metadata": {},
   "source": [
    "## Evaluating the Relevance of Recommendations"
   ]
  },
  {
   "cell_type": "code",
   "execution_count": 29,
   "metadata": {},
   "outputs": [],
   "source": [
    "def get_relevant_items(test_ratings: pd.DataFrame) -> Dict[int, List[int]]:\n",
    "    \"\"\"\n",
    "    returns {user: [items]} as a list of relevant items per user\n",
    "    for all users found in the test dataset\n",
    "    \"\"\"\n",
    "    relevant_items = test_ratings[['user', 'item']]\n",
    "    relevant_items = relevant_items.groupby('user')\n",
    "    relevant_items = {user: relevant_items.get_group(user)['item'].values\n",
    "                      for user in relevant_items.groups.keys()}\n",
    "\n",
    "    return relevant_items"
   ]
  },
  {
   "cell_type": "code",
   "execution_count": 30,
   "metadata": {},
   "outputs": [],
   "source": [
    "relevant_items = get_relevant_items(data.test_ratings)"
   ]
  },
  {
   "cell_type": "code",
   "execution_count": 31,
   "metadata": {},
   "outputs": [
    {
     "data": {
      "text/plain": [
       "array([143,  88, 131,  15, 239,  99, 255, 134, 210, 264, 227, 202,  59,\n",
       "        17, 203,   9,  39,  55, 251, 213,  27, 137, 180, 207, 196, 101,\n",
       "        28, 123,  13, 268, 106, 112, 222,  93, 126, 246, 257,  98,  34,\n",
       "       130, 218, 188, 242, 270, 170, 122, 120, 224,  72, 183, 190, 146,\n",
       "       167, 214, 121,   2,   5, 182,  43, 175, 252, 184])"
      ]
     },
     "execution_count": 31,
     "metadata": {},
     "output_type": "execute_result"
    }
   ],
   "source": [
    "relevant_items[1]"
   ]
  },
  {
   "cell_type": "markdown",
   "metadata": {},
   "source": [
    "$Precision@10$"
   ]
  },
  {
   "cell_type": "markdown",
   "metadata": {},
   "source": [
    "Now, we can compute the intersection between the top-$N$ recommended items and the items each user interacted with. Ideally, we want every recommendation to be a hit, i.e. an item the user consumed. In this case the size of intersections is $N$ given $N$ recommendations which is a precision of 100% = $\\frac{N}{N}$.\n",
    "\n",
    "We compute the so called $Precision@N$ for every user and take the mean over all. The resulting metric is called _mean average precision at N_ or short $MAP@N$."
   ]
  },
  {
   "cell_type": "markdown",
   "metadata": {},
   "source": [
    "![Parrot](\"parrot.png\")\n",
    "\n",
    "**Task:** Compute the $MAP@N$ for popularity recommendations"
   ]
  },
  {
   "cell_type": "markdown",
   "metadata": {},
   "source": [
    "#### Item Order"
   ]
  },
  {
   "cell_type": "code",
   "execution_count": 32,
   "metadata": {},
   "outputs": [],
   "source": [
    "N = 10"
   ]
  },
  {
   "cell_type": "code",
   "execution_count": 33,
   "metadata": {},
   "outputs": [],
   "source": [
    "users = relevant_items.keys()\n",
    "prec_at_N = dict.fromkeys(users)\n",
    "\n",
    "for user in users:\n",
    "    recommendations = get_recommendations(user,\n",
    "                                          user_ratings,\n",
    "                                          item_order,\n",
    "                                          N)\n",
    "    hits = np.intersect1d(recommendations,\n",
    "                          relevant_items[user])\n",
    "    prec_at_N[user] = len(hits)/N"
   ]
  },
  {
   "cell_type": "code",
   "execution_count": 34,
   "metadata": {},
   "outputs": [
    {
     "data": {
      "text/plain": [
       "0.06212765957446809"
      ]
     },
     "execution_count": 34,
     "metadata": {},
     "output_type": "execute_result"
    }
   ],
   "source": [
    "np.mean(list(prec_at_N.values()))"
   ]
  }
 ],
 "metadata": {
  "kernelspec": {
   "display_name": "Python 3",
   "language": "python",
   "name": "python3"
  },
  "language_info": {
   "codemirror_mode": {
    "name": "ipython",
    "version": 3
   },
   "file_extension": ".py",
   "mimetype": "text/x-python",
   "name": "python",
   "nbconvert_exporter": "python",
   "pygments_lexer": "ipython3",
   "version": "3.7.5"
  },
  "pycharm": {
   "stem_cell": {
    "cell_type": "raw",
    "metadata": {
     "collapsed": false
    },
    "source": []
   }
  }
 },
 "nbformat": 4,
 "nbformat_minor": 4
}
