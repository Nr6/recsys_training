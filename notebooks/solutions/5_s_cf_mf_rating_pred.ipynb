{
 "cells": [
  {
   "cell_type": "markdown",
   "metadata": {},
   "source": [
    "# Unit 5: Model-based Collaborative Filtering for **Rating** Prediction"
   ]
  },
  {
   "cell_type": "markdown",
   "metadata": {},
   "source": [
    "In this unit, we change the approach towards CF from neighborhood-based to **model-based**. This means that we create and train a model for describing users and items instead of using the k nearest neighbors. The model parameters are latent representations for users and items.\n",
    "\n",
    "Key to this idea is to compress the sparse interaction information of $R$ by finding two matrices $U$ and $V$ that by multiplication reconstruct $R$. The decomposition of $R$ into $U \\times V$ is called _matrix factorization_ and we refer to $U$ as user latent factor matrix and $V$ as item latent factor matrix.\n",
    "\n",
    "Compressing the sparse matrix into the product of two matrices means that the two remaining matrices are much smaller. This decrease in size is governed by the dimension of latent user/item vectors and symbolized by $d \\in \\mathbb{N}$. We choose $d$ to be much smaller than the number of items or users:\n",
    "\n",
    "\\begin{equation*}\n",
    "\\underset{m\\times n}{\\mathrm{R}} \\approx  \\underset{m\\times d}{U} \\times \\underset{d\\times n}{V^T} \\\\\n",
    "d \\ll \\min\\{m, n\\}\n",
    "\\end{equation*}"
   ]
  },
  {
   "cell_type": "code",
   "execution_count": 1,
   "metadata": {},
   "outputs": [],
   "source": [
    "from collections import OrderedDict\n",
    "import itertools\n",
    "from typing import Dict, List, Tuple\n",
    "\n",
    "import matplotlib.pyplot as plt\n",
    "import numpy as np\n",
    "import pandas as pd"
   ]
  },
  {
   "cell_type": "code",
   "execution_count": 2,
   "metadata": {},
   "outputs": [],
   "source": [
    "from recsys_training.data import Dataset\n",
    "from recsys_training.evaluation import get_relevant_items"
   ]
  },
  {
   "cell_type": "code",
   "execution_count": 3,
   "metadata": {},
   "outputs": [],
   "source": [
    "ml100k_ratings_filepath = '../../data/raw/ml-100k/u.data'"
   ]
  },
  {
   "cell_type": "markdown",
   "metadata": {},
   "source": [
    "## Load Data"
   ]
  },
  {
   "cell_type": "code",
   "execution_count": 4,
   "metadata": {},
   "outputs": [],
   "source": [
    "data = Dataset(ml100k_ratings_filepath)\n",
    "data.rating_split(seed=42)\n",
    "user_ratings = data.get_user_ratings()"
   ]
  },
  {
   "cell_type": "markdown",
   "metadata": {},
   "source": [
    "## Initialize the user and item latent factors, i.e. the model parameters"
   ]
  },
  {
   "cell_type": "code",
   "execution_count": 5,
   "metadata": {},
   "outputs": [],
   "source": [
    "seed = 42\n",
    "m = data.n_users\n",
    "n = data.n_items\n",
    "d = 8"
   ]
  },
  {
   "cell_type": "markdown",
   "metadata": {},
   "source": [
    "As we want to learn the user/item latent factors from rating data, we first randomly initialize them"
   ]
  },
  {
   "cell_type": "code",
   "execution_count": 6,
   "metadata": {},
   "outputs": [],
   "source": [
    "np.random.seed(seed)\n",
    "user_factors = np.random.normal(0, 1, (m, d))\n",
    "item_factors = np.random.normal(0, 1, (n, d))\n",
    "ratings = data.train_ratings[['user', 'item', 'rating']].sample(frac=1, random_state=seed)"
   ]
  },
  {
   "cell_type": "code",
   "execution_count": 7,
   "metadata": {},
   "outputs": [
    {
     "data": {
      "text/plain": [
       "4.880515091642834"
      ]
     },
     "execution_count": 7,
     "metadata": {},
     "output_type": "execute_result"
    }
   ],
   "source": [
    "np.dot(user_factors[1], item_factors[233])"
   ]
  },
  {
   "cell_type": "markdown",
   "metadata": {},
   "source": [
    "## Training"
   ]
  },
  {
   "cell_type": "markdown",
   "metadata": {},
   "source": [
    "We fit the model to the data with a technique called _minibatch gradient descent_.\n",
    "\n",
    "This means that for a number of epochs, i.e. full passes through the training data (ratings), we randomly choose a small subset of ratings (our minibatch) holding user, item and rating for each instance. Then, we compute the rating prediction as the dot product of user and item latent vectors (also called embeddings) and compute the mean squared error between predicted and true rating. We derive this error for user and item latent vectors to obtain our partial derivatives. We subtract part of the gradient from our latent vectors to move into the direction of minimizing error, i.e. deviation between true values and predictions.\n",
    "\n",
    "To keep track of the decreasing error, we compute the root mean squared error and print it."
   ]
  },
  {
   "cell_type": "code",
   "execution_count": 8,
   "metadata": {},
   "outputs": [],
   "source": [
    "epochs = 10\n",
    "batch_size = 64\n",
    "learning_rate = 0.01\n",
    "\n",
    "num_batches = int(np.ceil(len(ratings) / batch_size))\n",
    "rmse_trace = []\n",
    "rmse_test_trace = []"
   ]
  },
  {
   "cell_type": "markdown",
   "metadata": {},
   "source": [
    "**Task:** Implement `compute_gradients` that receives a minibatch and computes the gradients for user and item latent vectors involved."
   ]
  },
  {
   "cell_type": "code",
   "execution_count": 9,
   "metadata": {},
   "outputs": [],
   "source": [
    "def compute_gradients(ratings: np.array,\n",
    "                      u: np.array,\n",
    "                      v: np.array) -> Tuple[np.array, np.array]:\n",
    "    preds = np.sum(u * v, axis=1)\n",
    "    error = (ratings - preds).reshape(-1, 1)\n",
    "\n",
    "    u_grad = -2 * error * v\n",
    "    v_grad = -2 * error * u\n",
    "\n",
    "    return u_grad, v_grad"
   ]
  },
  {
   "cell_type": "code",
   "execution_count": 10,
   "metadata": {},
   "outputs": [],
   "source": [
    "def get_rmse(rating, u, v) -> float:\n",
    "    pred = np.sum(u * v, axis=1)\n",
    "    error = rating - pred\n",
    "    rmse = np.sqrt(np.mean(error ** 2))\n",
    "    return rmse"
   ]
  },
  {
   "cell_type": "code",
   "execution_count": 11,
   "metadata": {},
   "outputs": [
    {
     "name": "stdout",
     "output_type": "stream",
     "text": [
      "Epoch: 00 - Batch: 0000, RMSE: 4.945, Test RMSE: 4.695\n",
      "Epoch: 00 - Batch: 0300, RMSE: 3.870, Test RMSE: 3.976\n",
      "Epoch: 00 - Batch: 0600, RMSE: 3.044, Test RMSE: 3.399\n",
      "Epoch: 00 - Batch: 0900, RMSE: 1.781, Test RMSE: 2.686\n",
      "Epoch: 00 - Batch: 1200, RMSE: 1.618, Test RMSE: 2.267\n",
      "Epoch: 01 - Batch: 0000, RMSE: 1.395, Test RMSE: 2.221\n",
      "Epoch: 01 - Batch: 0300, RMSE: 1.118, Test RMSE: 2.009\n",
      "Epoch: 01 - Batch: 0600, RMSE: 1.142, Test RMSE: 1.904\n",
      "Epoch: 01 - Batch: 0900, RMSE: 1.054, Test RMSE: 1.823\n",
      "Epoch: 01 - Batch: 1200, RMSE: 1.123, Test RMSE: 1.758\n",
      "Epoch: 02 - Batch: 0000, RMSE: 1.084, Test RMSE: 1.749\n",
      "Epoch: 02 - Batch: 0300, RMSE: 0.934, Test RMSE: 1.700\n",
      "Epoch: 02 - Batch: 0600, RMSE: 1.058, Test RMSE: 1.671\n",
      "Epoch: 02 - Batch: 0900, RMSE: 0.985, Test RMSE: 1.646\n",
      "Epoch: 02 - Batch: 1200, RMSE: 1.022, Test RMSE: 1.623\n",
      "Epoch: 03 - Batch: 0000, RMSE: 1.002, Test RMSE: 1.621\n",
      "Epoch: 03 - Batch: 0300, RMSE: 0.900, Test RMSE: 1.600\n",
      "Epoch: 03 - Batch: 0600, RMSE: 1.030, Test RMSE: 1.589\n",
      "Epoch: 03 - Batch: 0900, RMSE: 0.962, Test RMSE: 1.577\n",
      "Epoch: 03 - Batch: 1200, RMSE: 0.977, Test RMSE: 1.565\n",
      "Epoch: 04 - Batch: 0000, RMSE: 0.962, Test RMSE: 1.564\n",
      "Epoch: 04 - Batch: 0300, RMSE: 0.891, Test RMSE: 1.554\n",
      "Epoch: 04 - Batch: 0600, RMSE: 1.011, Test RMSE: 1.549\n",
      "Epoch: 04 - Batch: 0900, RMSE: 0.947, Test RMSE: 1.543\n",
      "Epoch: 04 - Batch: 1200, RMSE: 0.950, Test RMSE: 1.535\n",
      "Epoch: 05 - Batch: 0000, RMSE: 0.937, Test RMSE: 1.536\n",
      "Epoch: 05 - Batch: 0300, RMSE: 0.888, Test RMSE: 1.531\n",
      "Epoch: 05 - Batch: 0600, RMSE: 0.996, Test RMSE: 1.529\n",
      "Epoch: 05 - Batch: 0900, RMSE: 0.934, Test RMSE: 1.526\n",
      "Epoch: 05 - Batch: 1200, RMSE: 0.931, Test RMSE: 1.519\n",
      "Epoch: 06 - Batch: 0000, RMSE: 0.918, Test RMSE: 1.521\n",
      "Epoch: 06 - Batch: 0300, RMSE: 0.889, Test RMSE: 1.519\n",
      "Epoch: 06 - Batch: 0600, RMSE: 0.982, Test RMSE: 1.518\n",
      "Epoch: 06 - Batch: 0900, RMSE: 0.921, Test RMSE: 1.518\n",
      "Epoch: 06 - Batch: 1200, RMSE: 0.917, Test RMSE: 1.511\n",
      "Epoch: 07 - Batch: 0000, RMSE: 0.904, Test RMSE: 1.513\n",
      "Epoch: 07 - Batch: 0300, RMSE: 0.889, Test RMSE: 1.513\n",
      "Epoch: 07 - Batch: 0600, RMSE: 0.970, Test RMSE: 1.512\n",
      "Epoch: 07 - Batch: 0900, RMSE: 0.910, Test RMSE: 1.514\n",
      "Epoch: 07 - Batch: 1200, RMSE: 0.905, Test RMSE: 1.508\n",
      "Epoch: 08 - Batch: 0000, RMSE: 0.894, Test RMSE: 1.509\n",
      "Epoch: 08 - Batch: 0300, RMSE: 0.889, Test RMSE: 1.511\n",
      "Epoch: 08 - Batch: 0600, RMSE: 0.959, Test RMSE: 1.509\n",
      "Epoch: 08 - Batch: 0900, RMSE: 0.899, Test RMSE: 1.513\n",
      "Epoch: 08 - Batch: 1200, RMSE: 0.896, Test RMSE: 1.507\n",
      "Epoch: 09 - Batch: 0000, RMSE: 0.888, Test RMSE: 1.508\n",
      "Epoch: 09 - Batch: 0300, RMSE: 0.889, Test RMSE: 1.511\n",
      "Epoch: 09 - Batch: 0600, RMSE: 0.949, Test RMSE: 1.509\n",
      "Epoch: 09 - Batch: 0900, RMSE: 0.888, Test RMSE: 1.514\n",
      "Epoch: 09 - Batch: 1200, RMSE: 0.889, Test RMSE: 1.507\n"
     ]
    }
   ],
   "source": [
    "for epoch in range(epochs):\n",
    "    for idx in range(num_batches):\n",
    "        \n",
    "        minibatch = ratings.iloc[idx * batch_size:(idx + 1) * batch_size]\n",
    "        \n",
    "        # deduct 1 as user ids are 1-indexed, but array is 0-indexed\n",
    "        user_embeds = user_factors[minibatch['user'].values - 1]\n",
    "        item_embeds = item_factors[minibatch['item'].values - 1]\n",
    "\n",
    "        user_grads, item_grads = compute_gradients(minibatch['rating'].values,\n",
    "                                                   user_embeds,\n",
    "                                                   item_embeds)\n",
    "        \n",
    "        # update user and item factors\n",
    "        user_factors[minibatch['user'].values - 1] -= learning_rate * user_grads\n",
    "        item_factors[minibatch['item'].values - 1] -= learning_rate * item_grads\n",
    "\n",
    "        if not idx % 300:\n",
    "            rmse = get_rmse(minibatch['rating'].values,\n",
    "                            user_embeds,\n",
    "                            item_embeds)\n",
    "            rmse_test = get_rmse(data.test_ratings['rating'].values,\n",
    "                                 user_factors[data.test_ratings['user'].values - 1],\n",
    "                                 item_factors[data.test_ratings['user'].values - 1])\n",
    "            rmse_trace.append(rmse)\n",
    "            rmse_test_trace.append(rmse_test)\n",
    "            print(f\"Epoch: {epoch:02d} - Batch: {idx:04d}, RMSE: {rmse:.3f}, Test RMSE: {rmse_test:.3f}\")"
   ]
  },
  {
   "cell_type": "code",
   "execution_count": 12,
   "metadata": {},
   "outputs": [
    {
     "data": {
      "image/png": "[encoded data removed]",
      "text/plain": [
       "<Figure size 864x576 with 1 Axes>"
      ]
     },
     "metadata": {
      "needs_background": "light"
     },
     "output_type": "display_data"
    }
   ],
   "source": [
    "plt.figure(figsize=(12,8))\n",
    "plt.plot(range(len(rmse_trace)), rmse_trace, 'b--', label='Train')\n",
    "plt.plot(range(len(rmse_test_trace)), rmse_test_trace, 'g--', label='Test')\n",
    "plt.grid(True)\n",
    "plt.legend()\n",
    "plt.xlabel('Epoch')\n",
    "plt.ylabel('RMSE')\n",
    "plt.show()"
   ]
  },
  {
   "cell_type": "markdown",
   "metadata": {},
   "source": [
    "### Using the model for Recommendations"
   ]
  },
  {
   "cell_type": "markdown",
   "metadata": {},
   "source": [
    "We have now created a model to describe users and items in terms of latent vectors. We fitted them to reconstruct ratings by multiplication. So for obtaining recommendations we simply multiply user-item latent vectors we are interested in and see favorable combinations where predicted ratings, i.e. the products, are rather high.\n",
    "\n",
    "Thus, before writing the `get_recommendations` we first implement `get_prediction`."
   ]
  },
  {
   "cell_type": "markdown",
   "metadata": {},
   "source": [
    "**Task:** Implement `get_prediction` for predicting ratings for a user and all items or a set of provided items. Remember to remove _known positives_."
   ]
  },
  {
   "cell_type": "code",
   "execution_count": 13,
   "metadata": {},
   "outputs": [],
   "source": [
    "def get_prediction(user,\n",
    "                   items: np.array = None,\n",
    "                   remove_known_pos: bool = True) -> Dict[int, Dict[str, float]]:\n",
    "    if items is None:\n",
    "        if remove_known_pos:\n",
    "            # Predict from unobserved items\n",
    "            known_items = np.array(list(user_ratings[user].keys()))\n",
    "            items = np.setdiff1d(data.items, known_items)\n",
    "        else:\n",
    "            items = np.array(data.items)\n",
    "    if type(items) == np.int64:\n",
    "        items = np.array([items])\n",
    "    \n",
    "    user_embed = user_factors[user - 1].reshape(1, -1)\n",
    "    item_embeds = item_factors[items - 1].reshape(len(items), -1)\n",
    "    \n",
    "    # use array-broadcasting\n",
    "    preds = np.sum(user_embed * item_embeds, axis=1)\n",
    "    sorting = np.argsort(preds)[::-1]\n",
    "    preds = {item: {'pred': pred} for item, pred in\n",
    "             zip(items[sorting], preds[sorting])}\n",
    "\n",
    "    return preds"
   ]
  },
  {
   "cell_type": "code",
   "execution_count": 14,
   "metadata": {},
   "outputs": [],
   "source": [
    "item_predictions = get_prediction(1)"
   ]
  },
  {
   "cell_type": "code",
   "execution_count": 15,
   "metadata": {},
   "outputs": [
    {
     "data": {
      "text/plain": [
       "[(1055, {'pred': 6.447471337059429}),\n",
       " (279, {'pred': 6.380863284005746}),\n",
       " (953, {'pred': 5.996115472169505}),\n",
       " (1517, {'pred': 5.7736058799224494}),\n",
       " (1469, {'pred': 5.747000105234243}),\n",
       " (694, {'pred': 5.699746884115531}),\n",
       " (1367, {'pred': 5.65608849635709}),\n",
       " (1160, {'pred': 5.647550839796219}),\n",
       " (1325, {'pred': 5.590977171553072}),\n",
       " (1631, {'pred': 5.55820294913908}),\n",
       " (1167, {'pred': 5.526388797376206}),\n",
       " (1343, {'pred': 5.5090168171160325}),\n",
       " (753, {'pred': 5.47225878361656}),\n",
       " (1352, {'pred': 5.464844572793105}),\n",
       " (1414, {'pred': 5.460864550673042}),\n",
       " (134, {'pred': 5.452351195533388}),\n",
       " (474, {'pred': 5.446589101274951}),\n",
       " (1449, {'pred': 5.429391085743485}),\n",
       " (1640, {'pred': 5.423582140698597}),\n",
       " (1004, {'pred': 5.376135129172911})]"
      ]
     },
     "execution_count": 15,
     "metadata": {},
     "output_type": "execute_result"
    }
   ],
   "source": [
    "list(item_predictions.items())[:20]"
   ]
  },
  {
   "cell_type": "code",
   "execution_count": 16,
   "metadata": {},
   "outputs": [],
   "source": [
    "def get_recommendations(user: int, N: int, remove_known_pos: bool = False) -> List[Tuple[int, Dict[str, float]]]:\n",
    "    predictions = get_prediction(user, remove_known_pos=remove_known_pos)\n",
    "    recommendations = []\n",
    "    for item, pred in predictions.items():\n",
    "        add_item = (item, pred)\n",
    "        recommendations.append(add_item)\n",
    "        if len(recommendations) == N:\n",
    "            break\n",
    "\n",
    "    return recommendations"
   ]
  },
  {
   "cell_type": "code",
   "execution_count": 17,
   "metadata": {},
   "outputs": [],
   "source": [
    "recommendations = get_recommendations(1, 10)"
   ]
  },
  {
   "cell_type": "code",
   "execution_count": 18,
   "metadata": {},
   "outputs": [
    {
     "data": {
      "text/plain": [
       "[(1055, {'pred': 6.447471337059429}),\n",
       " (279, {'pred': 6.380863284005746}),\n",
       " (953, {'pred': 5.996115472169505}),\n",
       " (1517, {'pred': 5.7736058799224494}),\n",
       " (1469, {'pred': 5.747000105234243}),\n",
       " (694, {'pred': 5.699746884115531}),\n",
       " (1367, {'pred': 5.65608849635709}),\n",
       " (1160, {'pred': 5.647550839796219}),\n",
       " (1325, {'pred': 5.590977171553072}),\n",
       " (114, {'pred': 5.57759962974062})]"
      ]
     },
     "execution_count": 18,
     "metadata": {},
     "output_type": "execute_result"
    }
   ],
   "source": [
    "recommendations"
   ]
  },
  {
   "cell_type": "markdown",
   "metadata": {},
   "source": [
    "### Evaluation"
   ]
  },
  {
   "cell_type": "code",
   "execution_count": 19,
   "metadata": {},
   "outputs": [],
   "source": [
    "N = 10"
   ]
  },
  {
   "cell_type": "code",
   "execution_count": 20,
   "metadata": {},
   "outputs": [],
   "source": [
    "relevant_items = get_relevant_items(data.test_ratings)"
   ]
  },
  {
   "cell_type": "code",
   "execution_count": 21,
   "metadata": {},
   "outputs": [],
   "source": [
    "users = relevant_items.keys()\n",
    "prec_at_N = dict.fromkeys(data.users)\n",
    "\n",
    "for user in users:\n",
    "    recommendations = get_recommendations(user, N, remove_known_pos=True)\n",
    "    recommendations = [val[0] for val in recommendations]\n",
    "    hits = np.intersect1d(recommendations,\n",
    "                          relevant_items[user])\n",
    "    prec_at_N[user] = len(hits)/N"
   ]
  },
  {
   "cell_type": "code",
   "execution_count": 22,
   "metadata": {},
   "outputs": [
    {
     "data": {
      "text/plain": [
       "[119, 1450, 113, 1189, 1130, 1495, 512, 889, 884, 1367]"
      ]
     },
     "execution_count": 22,
     "metadata": {},
     "output_type": "execute_result"
    }
   ],
   "source": [
    "recommendations"
   ]
  },
  {
   "cell_type": "code",
   "execution_count": 23,
   "metadata": {},
   "outputs": [
    {
     "data": {
      "text/plain": [
       "0.008723404255319148"
      ]
     },
     "execution_count": 23,
     "metadata": {},
     "output_type": "execute_result"
    }
   ],
   "source": [
    "np.mean([val for val in prec_at_N.values() if val is not None])"
   ]
  }
 ],
 "metadata": {
  "kernelspec": {
   "display_name": "Python 3",
   "language": "python",
   "name": "python3"
  },
  "language_info": {
   "codemirror_mode": {
    "name": "ipython",
    "version": 3
   },
   "file_extension": ".py",
   "mimetype": "text/x-python",
   "name": "python",
   "nbconvert_exporter": "python",
   "pygments_lexer": "ipython3",
   "version": "3.7.5"
  },
  "pycharm": {
   "stem_cell": {
    "cell_type": "raw",
    "metadata": {
     "collapsed": false
    },
    "source": []
   }
  }
 },
 "nbformat": 4,
 "nbformat_minor": 4
}
