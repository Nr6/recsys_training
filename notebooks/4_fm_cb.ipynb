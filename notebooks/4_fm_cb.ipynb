{
 "cells": [
  {
   "cell_type": "code",
   "execution_count": 1,
   "metadata": {},
   "outputs": [],
   "source": [
    "%load_ext autoreload\n",
    "%autoreload 2"
   ]
  },
  {
   "cell_type": "code",
   "execution_count": 2,
   "metadata": {},
   "outputs": [],
   "source": [
    "from typing import Dict, List, Tuple"
   ]
  },
  {
   "cell_type": "code",
   "execution_count": 3,
   "metadata": {},
   "outputs": [],
   "source": [
    "import matplotlib.pyplot as plt\n",
    "import numpy as np\n",
    "import pandas as pd\n",
    "from scipy.sparse import csr_matrix\n",
    "from sklearn.metrics import mean_squared_error, mean_absolute_error"
   ]
  },
  {
   "cell_type": "code",
   "execution_count": 4,
   "metadata": {},
   "outputs": [],
   "source": [
    "from pyfm import pylibfm"
   ]
  },
  {
   "cell_type": "code",
   "execution_count": 5,
   "metadata": {},
   "outputs": [],
   "source": [
    "from recsys_training.data import Dataset, genres, preprocess_users, preprocess_items, get_user_profiles\n",
    "from recsys_training.evaluation import retrieval_score, compute_mae, get_relevant_items, reciprocal_rank\n",
    "from recsys_training.utils import get_sparsity, one_hot_encode_ids"
   ]
  },
  {
   "cell_type": "code",
   "execution_count": 6,
   "metadata": {},
   "outputs": [],
   "source": [
    "ml100k_ratings_filepath = '../data/raw/ml-100k/u.data'\n",
    "ml100k_item_filepath = '../data/raw/ml-100k/u.item'\n",
    "ml100k_user_filepath = '../data/raw/ml-100k/u.user'"
   ]
  },
  {
   "cell_type": "markdown",
   "metadata": {},
   "source": [
    "## Load Data"
   ]
  },
  {
   "cell_type": "code",
   "execution_count": 7,
   "metadata": {},
   "outputs": [],
   "source": [
    "data = Dataset(ml100k_ratings_filepath)\n",
    "data.rating_split(seed=42)"
   ]
  },
  {
   "cell_type": "code",
   "execution_count": 8,
   "metadata": {},
   "outputs": [],
   "source": [
    "items = pd.read_csv(ml100k_item_filepath, sep='|', header=None,\n",
    "                    names=['item', 'title', 'release', 'video_release', 'imdb_url']+genres,\n",
    "                    engine='python')"
   ]
  },
  {
   "cell_type": "code",
   "execution_count": 9,
   "metadata": {},
   "outputs": [],
   "source": [
    "users = pd.read_csv(ml100k_user_filepath, sep='|', header=None,\n",
    "                    names=['user', 'age', 'gender', 'occupation', 'zip'])"
   ]
  },
  {
   "cell_type": "markdown",
   "metadata": {},
   "source": [
    "## Preprocessing"
   ]
  },
  {
   "cell_type": "code",
   "execution_count": 10,
   "metadata": {},
   "outputs": [],
   "source": [
    "min_rating = 4\n",
    "ratings = data.train_ratings[data.train_ratings.rating >= min_rating]"
   ]
  },
  {
   "cell_type": "code",
   "execution_count": 11,
   "metadata": {},
   "outputs": [],
   "source": [
    "items = preprocess_items(items)"
   ]
  },
  {
   "cell_type": "code",
   "execution_count": 12,
   "metadata": {},
   "outputs": [],
   "source": [
    "# requires feature 'release_month' in items DataFrame\n",
    "profiles = get_user_profiles(ratings, items)"
   ]
  },
  {
   "cell_type": "code",
   "execution_count": 13,
   "metadata": {},
   "outputs": [],
   "source": [
    "# one-hot-encode release month\n",
    "release_month_df = pd.get_dummies(items['release_month'], prefix='release_month')\n",
    "items = pd.concat([items, release_month_df], axis=1)\n",
    "items.drop('release_month', axis=1, inplace=True)"
   ]
  },
  {
   "cell_type": "code",
   "execution_count": 14,
   "metadata": {},
   "outputs": [],
   "source": [
    "items.index = items['item'].values\n",
    "items.drop('item', axis=1, inplace=True)"
   ]
  },
  {
   "cell_type": "code",
   "execution_count": 15,
   "metadata": {},
   "outputs": [],
   "source": [
    "users = preprocess_users(users)"
   ]
  },
  {
   "cell_type": "code",
   "execution_count": 16,
   "metadata": {},
   "outputs": [],
   "source": [
    "users = users.merge(profiles, on='user', how='left')"
   ]
  },
  {
   "cell_type": "code",
   "execution_count": 17,
   "metadata": {},
   "outputs": [],
   "source": [
    "users.index = users['user'].values"
   ]
  },
  {
   "cell_type": "code",
   "execution_count": 18,
   "metadata": {},
   "outputs": [],
   "source": [
    "occupation_1H = pd.get_dummies(users['occupation'], prefix='occupation')\n",
    "zip_1H = pd.get_dummies(users['zip'], prefix='zip')"
   ]
  },
  {
   "cell_type": "code",
   "execution_count": 19,
   "metadata": {},
   "outputs": [],
   "source": [
    "users.drop(['occupation', 'zip', 'user'], axis=1, inplace=True)\n",
    "users = pd.concat([users, occupation_1H, zip_1H], axis=1)"
   ]
  },
  {
   "cell_type": "code",
   "execution_count": 20,
   "metadata": {},
   "outputs": [],
   "source": [
    "users.fillna(0, inplace=True)"
   ]
  },
  {
   "cell_type": "markdown",
   "metadata": {},
   "source": [
    "## Check"
   ]
  },
  {
   "cell_type": "code",
   "execution_count": 21,
   "metadata": {},
   "outputs": [
    {
     "data": {
      "text/html": [
       "<div>\n",
       "<style scoped>\n",
       "    .dataframe tbody tr th:only-of-type {\n",
       "        vertical-align: middle;\n",
       "    }\n",
       "\n",
       "    .dataframe tbody tr th {\n",
       "        vertical-align: top;\n",
       "    }\n",
       "\n",
       "    .dataframe thead th {\n",
       "        text-align: right;\n",
       "    }\n",
       "</style>\n",
       "<table border=\"1\" class=\"dataframe\">\n",
       "  <thead>\n",
       "    <tr style=\"text-align: right;\">\n",
       "      <th></th>\n",
       "      <th>unknown</th>\n",
       "      <th>Action</th>\n",
       "      <th>Adventure</th>\n",
       "      <th>Animation</th>\n",
       "      <th>Children</th>\n",
       "      <th>Comedy</th>\n",
       "      <th>Crime</th>\n",
       "      <th>Documentary</th>\n",
       "      <th>Drama</th>\n",
       "      <th>Fantasy</th>\n",
       "      <th>...</th>\n",
       "      <th>release_month_3</th>\n",
       "      <th>release_month_4</th>\n",
       "      <th>release_month_5</th>\n",
       "      <th>release_month_6</th>\n",
       "      <th>release_month_7</th>\n",
       "      <th>release_month_8</th>\n",
       "      <th>release_month_9</th>\n",
       "      <th>release_month_10</th>\n",
       "      <th>release_month_11</th>\n",
       "      <th>release_month_12</th>\n",
       "    </tr>\n",
       "  </thead>\n",
       "  <tbody>\n",
       "    <tr>\n",
       "      <th>1</th>\n",
       "      <td>0</td>\n",
       "      <td>0</td>\n",
       "      <td>0</td>\n",
       "      <td>1</td>\n",
       "      <td>1</td>\n",
       "      <td>1</td>\n",
       "      <td>0</td>\n",
       "      <td>0</td>\n",
       "      <td>0</td>\n",
       "      <td>0</td>\n",
       "      <td>...</td>\n",
       "      <td>0</td>\n",
       "      <td>0</td>\n",
       "      <td>0</td>\n",
       "      <td>0</td>\n",
       "      <td>0</td>\n",
       "      <td>0</td>\n",
       "      <td>0</td>\n",
       "      <td>0</td>\n",
       "      <td>0</td>\n",
       "      <td>0</td>\n",
       "    </tr>\n",
       "    <tr>\n",
       "      <th>2</th>\n",
       "      <td>0</td>\n",
       "      <td>1</td>\n",
       "      <td>1</td>\n",
       "      <td>0</td>\n",
       "      <td>0</td>\n",
       "      <td>0</td>\n",
       "      <td>0</td>\n",
       "      <td>0</td>\n",
       "      <td>0</td>\n",
       "      <td>0</td>\n",
       "      <td>...</td>\n",
       "      <td>0</td>\n",
       "      <td>0</td>\n",
       "      <td>0</td>\n",
       "      <td>0</td>\n",
       "      <td>0</td>\n",
       "      <td>0</td>\n",
       "      <td>0</td>\n",
       "      <td>0</td>\n",
       "      <td>0</td>\n",
       "      <td>0</td>\n",
       "    </tr>\n",
       "    <tr>\n",
       "      <th>3</th>\n",
       "      <td>0</td>\n",
       "      <td>0</td>\n",
       "      <td>0</td>\n",
       "      <td>0</td>\n",
       "      <td>0</td>\n",
       "      <td>0</td>\n",
       "      <td>0</td>\n",
       "      <td>0</td>\n",
       "      <td>0</td>\n",
       "      <td>0</td>\n",
       "      <td>...</td>\n",
       "      <td>0</td>\n",
       "      <td>0</td>\n",
       "      <td>0</td>\n",
       "      <td>0</td>\n",
       "      <td>0</td>\n",
       "      <td>0</td>\n",
       "      <td>0</td>\n",
       "      <td>0</td>\n",
       "      <td>0</td>\n",
       "      <td>0</td>\n",
       "    </tr>\n",
       "    <tr>\n",
       "      <th>4</th>\n",
       "      <td>0</td>\n",
       "      <td>1</td>\n",
       "      <td>0</td>\n",
       "      <td>0</td>\n",
       "      <td>0</td>\n",
       "      <td>1</td>\n",
       "      <td>0</td>\n",
       "      <td>0</td>\n",
       "      <td>1</td>\n",
       "      <td>0</td>\n",
       "      <td>...</td>\n",
       "      <td>0</td>\n",
       "      <td>0</td>\n",
       "      <td>0</td>\n",
       "      <td>0</td>\n",
       "      <td>0</td>\n",
       "      <td>0</td>\n",
       "      <td>0</td>\n",
       "      <td>0</td>\n",
       "      <td>0</td>\n",
       "      <td>0</td>\n",
       "    </tr>\n",
       "    <tr>\n",
       "      <th>5</th>\n",
       "      <td>0</td>\n",
       "      <td>0</td>\n",
       "      <td>0</td>\n",
       "      <td>0</td>\n",
       "      <td>0</td>\n",
       "      <td>0</td>\n",
       "      <td>1</td>\n",
       "      <td>0</td>\n",
       "      <td>1</td>\n",
       "      <td>0</td>\n",
       "      <td>...</td>\n",
       "      <td>0</td>\n",
       "      <td>0</td>\n",
       "      <td>0</td>\n",
       "      <td>0</td>\n",
       "      <td>0</td>\n",
       "      <td>0</td>\n",
       "      <td>0</td>\n",
       "      <td>0</td>\n",
       "      <td>0</td>\n",
       "      <td>0</td>\n",
       "    </tr>\n",
       "  </tbody>\n",
       "</table>\n",
       "<p>5 rows × 32 columns</p>\n",
       "</div>"
      ],
      "text/plain": [
       "   unknown  Action  Adventure  Animation  Children  Comedy  Crime  \\\n",
       "1        0       0          0          1         1       1      0   \n",
       "2        0       1          1          0         0       0      0   \n",
       "3        0       0          0          0         0       0      0   \n",
       "4        0       1          0          0         0       1      0   \n",
       "5        0       0          0          0         0       0      1   \n",
       "\n",
       "   Documentary  Drama  Fantasy  ...  release_month_3  release_month_4  \\\n",
       "1            0      0        0  ...                0                0   \n",
       "2            0      0        0  ...                0                0   \n",
       "3            0      0        0  ...                0                0   \n",
       "4            0      1        0  ...                0                0   \n",
       "5            0      1        0  ...                0                0   \n",
       "\n",
       "   release_month_5  release_month_6  release_month_7  release_month_8  \\\n",
       "1                0                0                0                0   \n",
       "2                0                0                0                0   \n",
       "3                0                0                0                0   \n",
       "4                0                0                0                0   \n",
       "5                0                0                0                0   \n",
       "\n",
       "   release_month_9  release_month_10  release_month_11  release_month_12  \n",
       "1                0                 0                 0                 0  \n",
       "2                0                 0                 0                 0  \n",
       "3                0                 0                 0                 0  \n",
       "4                0                 0                 0                 0  \n",
       "5                0                 0                 0                 0  \n",
       "\n",
       "[5 rows x 32 columns]"
      ]
     },
     "execution_count": 21,
     "metadata": {},
     "output_type": "execute_result"
    }
   ],
   "source": [
    "items.head()"
   ]
  },
  {
   "cell_type": "code",
   "execution_count": 22,
   "metadata": {},
   "outputs": [
    {
     "data": {
      "text/plain": [
       "(1682, 32)"
      ]
     },
     "execution_count": 22,
     "metadata": {},
     "output_type": "execute_result"
    }
   ],
   "source": [
    "items.shape"
   ]
  },
  {
   "cell_type": "code",
   "execution_count": 23,
   "metadata": {},
   "outputs": [
    {
     "data": {
      "text/html": [
       "<div>\n",
       "<style scoped>\n",
       "    .dataframe tbody tr th:only-of-type {\n",
       "        vertical-align: middle;\n",
       "    }\n",
       "\n",
       "    .dataframe tbody tr th {\n",
       "        vertical-align: top;\n",
       "    }\n",
       "\n",
       "    .dataframe thead th {\n",
       "        text-align: right;\n",
       "    }\n",
       "</style>\n",
       "<table border=\"1\" class=\"dataframe\">\n",
       "  <thead>\n",
       "    <tr style=\"text-align: right;\">\n",
       "      <th></th>\n",
       "      <th>age</th>\n",
       "      <th>gender</th>\n",
       "      <th>unknown</th>\n",
       "      <th>Action</th>\n",
       "      <th>Adventure</th>\n",
       "      <th>Animation</th>\n",
       "      <th>Children</th>\n",
       "      <th>Comedy</th>\n",
       "      <th>Crime</th>\n",
       "      <th>Documentary</th>\n",
       "      <th>...</th>\n",
       "      <th>zip_90</th>\n",
       "      <th>zip_91</th>\n",
       "      <th>zip_92</th>\n",
       "      <th>zip_93</th>\n",
       "      <th>zip_94</th>\n",
       "      <th>zip_95</th>\n",
       "      <th>zip_96</th>\n",
       "      <th>zip_97</th>\n",
       "      <th>zip_98</th>\n",
       "      <th>zip_99</th>\n",
       "    </tr>\n",
       "  </thead>\n",
       "  <tbody>\n",
       "    <tr>\n",
       "      <th>1</th>\n",
       "      <td>0.257576</td>\n",
       "      <td>1</td>\n",
       "      <td>0.008130</td>\n",
       "      <td>0.235772</td>\n",
       "      <td>0.097561</td>\n",
       "      <td>0.040650</td>\n",
       "      <td>0.040650</td>\n",
       "      <td>0.308943</td>\n",
       "      <td>0.081301</td>\n",
       "      <td>0.040650</td>\n",
       "      <td>...</td>\n",
       "      <td>0</td>\n",
       "      <td>0</td>\n",
       "      <td>0</td>\n",
       "      <td>0</td>\n",
       "      <td>0</td>\n",
       "      <td>0</td>\n",
       "      <td>0</td>\n",
       "      <td>0</td>\n",
       "      <td>0</td>\n",
       "      <td>0</td>\n",
       "    </tr>\n",
       "    <tr>\n",
       "      <th>2</th>\n",
       "      <td>0.696970</td>\n",
       "      <td>0</td>\n",
       "      <td>0.000000</td>\n",
       "      <td>0.193548</td>\n",
       "      <td>0.064516</td>\n",
       "      <td>0.032258</td>\n",
       "      <td>0.032258</td>\n",
       "      <td>0.258065</td>\n",
       "      <td>0.193548</td>\n",
       "      <td>0.000000</td>\n",
       "      <td>...</td>\n",
       "      <td>0</td>\n",
       "      <td>0</td>\n",
       "      <td>0</td>\n",
       "      <td>0</td>\n",
       "      <td>1</td>\n",
       "      <td>0</td>\n",
       "      <td>0</td>\n",
       "      <td>0</td>\n",
       "      <td>0</td>\n",
       "      <td>0</td>\n",
       "    </tr>\n",
       "    <tr>\n",
       "      <th>3</th>\n",
       "      <td>0.242424</td>\n",
       "      <td>1</td>\n",
       "      <td>0.000000</td>\n",
       "      <td>0.250000</td>\n",
       "      <td>0.166667</td>\n",
       "      <td>0.000000</td>\n",
       "      <td>0.000000</td>\n",
       "      <td>0.250000</td>\n",
       "      <td>0.250000</td>\n",
       "      <td>0.000000</td>\n",
       "      <td>...</td>\n",
       "      <td>0</td>\n",
       "      <td>0</td>\n",
       "      <td>0</td>\n",
       "      <td>0</td>\n",
       "      <td>0</td>\n",
       "      <td>0</td>\n",
       "      <td>0</td>\n",
       "      <td>0</td>\n",
       "      <td>0</td>\n",
       "      <td>0</td>\n",
       "    </tr>\n",
       "    <tr>\n",
       "      <th>4</th>\n",
       "      <td>0.257576</td>\n",
       "      <td>1</td>\n",
       "      <td>0.000000</td>\n",
       "      <td>0.285714</td>\n",
       "      <td>0.142857</td>\n",
       "      <td>0.000000</td>\n",
       "      <td>0.000000</td>\n",
       "      <td>0.142857</td>\n",
       "      <td>0.214286</td>\n",
       "      <td>0.071429</td>\n",
       "      <td>...</td>\n",
       "      <td>0</td>\n",
       "      <td>0</td>\n",
       "      <td>0</td>\n",
       "      <td>0</td>\n",
       "      <td>0</td>\n",
       "      <td>0</td>\n",
       "      <td>0</td>\n",
       "      <td>0</td>\n",
       "      <td>0</td>\n",
       "      <td>0</td>\n",
       "    </tr>\n",
       "    <tr>\n",
       "      <th>5</th>\n",
       "      <td>0.393939</td>\n",
       "      <td>0</td>\n",
       "      <td>0.021277</td>\n",
       "      <td>0.382979</td>\n",
       "      <td>0.234043</td>\n",
       "      <td>0.127660</td>\n",
       "      <td>0.063830</td>\n",
       "      <td>0.595745</td>\n",
       "      <td>0.148936</td>\n",
       "      <td>0.000000</td>\n",
       "      <td>...</td>\n",
       "      <td>0</td>\n",
       "      <td>0</td>\n",
       "      <td>0</td>\n",
       "      <td>0</td>\n",
       "      <td>0</td>\n",
       "      <td>0</td>\n",
       "      <td>0</td>\n",
       "      <td>0</td>\n",
       "      <td>0</td>\n",
       "      <td>0</td>\n",
       "    </tr>\n",
       "  </tbody>\n",
       "</table>\n",
       "<p>5 rows × 141 columns</p>\n",
       "</div>"
      ],
      "text/plain": [
       "        age  gender   unknown    Action  Adventure  Animation  Children  \\\n",
       "1  0.257576       1  0.008130  0.235772   0.097561   0.040650  0.040650   \n",
       "2  0.696970       0  0.000000  0.193548   0.064516   0.032258  0.032258   \n",
       "3  0.242424       1  0.000000  0.250000   0.166667   0.000000  0.000000   \n",
       "4  0.257576       1  0.000000  0.285714   0.142857   0.000000  0.000000   \n",
       "5  0.393939       0  0.021277  0.382979   0.234043   0.127660  0.063830   \n",
       "\n",
       "     Comedy     Crime  Documentary  ...  zip_90  zip_91  zip_92  zip_93  \\\n",
       "1  0.308943  0.081301     0.040650  ...       0       0       0       0   \n",
       "2  0.258065  0.193548     0.000000  ...       0       0       0       0   \n",
       "3  0.250000  0.250000     0.000000  ...       0       0       0       0   \n",
       "4  0.142857  0.214286     0.071429  ...       0       0       0       0   \n",
       "5  0.595745  0.148936     0.000000  ...       0       0       0       0   \n",
       "\n",
       "   zip_94  zip_95  zip_96  zip_97  zip_98  zip_99  \n",
       "1       0       0       0       0       0       0  \n",
       "2       1       0       0       0       0       0  \n",
       "3       0       0       0       0       0       0  \n",
       "4       0       0       0       0       0       0  \n",
       "5       0       0       0       0       0       0  \n",
       "\n",
       "[5 rows x 141 columns]"
      ]
     },
     "execution_count": 23,
     "metadata": {},
     "output_type": "execute_result"
    }
   ],
   "source": [
    "users.head()"
   ]
  },
  {
   "cell_type": "code",
   "execution_count": 24,
   "metadata": {},
   "outputs": [
    {
     "data": {
      "text/plain": [
       "(943, 141)"
      ]
     },
     "execution_count": 24,
     "metadata": {},
     "output_type": "execute_result"
    }
   ],
   "source": [
    "users.shape"
   ]
  },
  {
   "cell_type": "code",
   "execution_count": 25,
   "metadata": {},
   "outputs": [
    {
     "data": {
      "text/plain": [
       "1    670\n",
       "0    273\n",
       "Name: gender, dtype: int64"
      ]
     },
     "execution_count": 25,
     "metadata": {},
     "output_type": "execute_result"
    }
   ],
   "source": [
    "users.gender.value_counts()"
   ]
  },
  {
   "cell_type": "code",
   "execution_count": 26,
   "metadata": {},
   "outputs": [
    {
     "data": {
      "text/plain": [
       "count    943.000000\n",
       "mean       0.409878\n",
       "std        0.184738\n",
       "min        0.000000\n",
       "25%        0.272727\n",
       "50%        0.363636\n",
       "75%        0.545455\n",
       "max        1.000000\n",
       "Name: age, dtype: float64"
      ]
     },
     "execution_count": 26,
     "metadata": {},
     "output_type": "execute_result"
    }
   ],
   "source": [
    "users.iloc[:, 0].describe()"
   ]
  },
  {
   "cell_type": "markdown",
   "metadata": {},
   "source": [
    "## Factorization Maschines to Leverage Content Information"
   ]
  },
  {
   "cell_type": "markdown",
   "metadata": {},
   "source": [
    "[pyFM - Factorization Machines in Python](https://github.com/coreylynch/pyFM)"
   ]
  },
  {
   "cell_type": "markdown",
   "metadata": {},
   "source": [
    "### Content-based Filtering for Rating Prediction "
   ]
  },
  {
   "cell_type": "markdown",
   "metadata": {},
   "source": [
    "Sparsity of user/item content information"
   ]
  },
  {
   "cell_type": "code",
   "execution_count": 27,
   "metadata": {},
   "outputs": [
    {
     "data": {
      "text/plain": [
       "0.861337364529982"
      ]
     },
     "execution_count": 27,
     "metadata": {},
     "output_type": "execute_result"
    }
   ],
   "source": [
    "(users==0).sum().sum()/users.size"
   ]
  },
  {
   "cell_type": "code",
   "execution_count": 28,
   "metadata": {},
   "outputs": [
    {
     "data": {
      "text/plain": [
       "0.35775366079285215"
      ]
     },
     "execution_count": 28,
     "metadata": {},
     "output_type": "execute_result"
    }
   ],
   "source": [
    "(items==0).sum().sum()/users.size"
   ]
  },
  {
   "cell_type": "markdown",
   "metadata": {},
   "source": [
    "#### Create Feature Matrices"
   ]
  },
  {
   "cell_type": "code",
   "execution_count": 29,
   "metadata": {},
   "outputs": [],
   "source": [
    "# fetch content information for all observed user-item rating combinations\n",
    "user_cb_feat_train = users.loc[data.train_ratings.user.values].values\n",
    "user_cb_feat_test = users.loc[data.test_ratings.user.values].values\n",
    "item_cb_feat_train = items.loc[data.train_ratings.item.values].values\n",
    "item_cb_feat_test = items.loc[data.test_ratings.item.values].values"
   ]
  },
  {
   "cell_type": "code",
   "execution_count": 30,
   "metadata": {},
   "outputs": [],
   "source": [
    "# concatenate user and item content information to form design matrices\n",
    "# and convert to sparse matrix in Compressed Sparse Row (CSR) format\n",
    "X_train = np.concatenate((user_cb_feat_train, item_cb_feat_train), axis=1)\n",
    "X_train = csr_matrix(X_train)\n",
    "X_test = np.concatenate((user_cb_feat_test, item_cb_feat_test), axis=1)\n",
    "X_test = csr_matrix(X_test)"
   ]
  },
  {
   "cell_type": "code",
   "execution_count": 31,
   "metadata": {},
   "outputs": [
    {
     "data": {
      "text/plain": [
       "<80000x173 sparse matrix of type '<class 'numpy.float64'>'\n",
       "\twith 2075351 stored elements in Compressed Sparse Row format>"
      ]
     },
     "execution_count": 31,
     "metadata": {},
     "output_type": "execute_result"
    }
   ],
   "source": [
    "X_train"
   ]
  },
  {
   "cell_type": "code",
   "execution_count": 32,
   "metadata": {},
   "outputs": [
    {
     "data": {
      "text/plain": [
       "0.8500468930635838"
      ]
     },
     "execution_count": 32,
     "metadata": {},
     "output_type": "execute_result"
    }
   ],
   "source": [
    "# Sparsity of Training Data\n",
    "get_sparsity(X_train)"
   ]
  },
  {
   "cell_type": "code",
   "execution_count": 33,
   "metadata": {},
   "outputs": [
    {
     "data": {
      "text/plain": [
       "<20000x173 sparse matrix of type '<class 'numpy.float64'>'\n",
       "\twith 518098 stored elements in Compressed Sparse Row format>"
      ]
     },
     "execution_count": 33,
     "metadata": {},
     "output_type": "execute_result"
    }
   ],
   "source": [
    "X_test"
   ]
  },
  {
   "cell_type": "code",
   "execution_count": 34,
   "metadata": {},
   "outputs": [
    {
     "data": {
      "text/plain": [
       "0.8502606936416185"
      ]
     },
     "execution_count": 34,
     "metadata": {},
     "output_type": "execute_result"
    }
   ],
   "source": [
    "# Sparsity of Test Data\n",
    "get_sparsity(X_test)"
   ]
  },
  {
   "cell_type": "markdown",
   "metadata": {},
   "source": [
    "#### Create Target Matrices for Rating Predictions"
   ]
  },
  {
   "cell_type": "code",
   "execution_count": 35,
   "metadata": {},
   "outputs": [],
   "source": [
    "y_train = data.train_ratings.rating.values.astype(float)\n",
    "y_test = data.test_ratings.rating.values"
   ]
  },
  {
   "cell_type": "markdown",
   "metadata": {},
   "source": [
    "#### Train Factorization Machine for Rating Prediction as Regressor using pyFM"
   ]
  },
  {
   "cell_type": "code",
   "execution_count": 36,
   "metadata": {},
   "outputs": [],
   "source": [
    "n_epochs = 50  # number of full stochastic passes through the training data\n",
    "k = 16\n",
    "random_seed = 28"
   ]
  },
  {
   "cell_type": "code",
   "execution_count": 37,
   "metadata": {},
   "outputs": [
    {
     "name": "stdout",
     "output_type": "stream",
     "text": [
      "Creating validation dataset of 0.01 of training for adaptive regularization\n",
      "-- Epoch 1\n",
      "Training MSE: 0.57679\n",
      "-- Epoch 2\n",
      "Training MSE: 0.53779\n",
      "-- Epoch 3\n",
      "Training MSE: 0.52432\n",
      "-- Epoch 4\n",
      "Training MSE: 0.51722\n",
      "-- Epoch 5\n",
      "Training MSE: 0.51355\n",
      "-- Epoch 6\n",
      "Training MSE: 0.50994\n",
      "-- Epoch 7\n",
      "Training MSE: 0.50888\n",
      "-- Epoch 8\n",
      "Training MSE: 0.50753\n",
      "-- Epoch 9\n",
      "Training MSE: 0.50713\n",
      "-- Epoch 10\n",
      "Training MSE: 0.50617\n",
      "-- Epoch 11\n",
      "Training MSE: 0.50588\n",
      "-- Epoch 12\n",
      "Training MSE: 0.50531\n",
      "-- Epoch 13\n",
      "Training MSE: 0.50444\n",
      "-- Epoch 14\n",
      "Training MSE: 0.50426\n",
      "-- Epoch 15\n",
      "Training MSE: 0.50423\n",
      "-- Epoch 16\n",
      "Training MSE: 0.50332\n",
      "-- Epoch 17\n",
      "Training MSE: 0.50355\n",
      "-- Epoch 18\n",
      "Training MSE: 0.50423\n",
      "-- Epoch 19\n",
      "Training MSE: 0.50323\n",
      "-- Epoch 20\n",
      "Training MSE: 0.50316\n",
      "-- Epoch 21\n",
      "Training MSE: 0.50299\n",
      "-- Epoch 22\n",
      "Training MSE: 0.50365\n",
      "-- Epoch 23\n",
      "Training MSE: 0.50350\n",
      "-- Epoch 24\n",
      "Training MSE: 0.50306\n",
      "-- Epoch 25\n",
      "Training MSE: 0.50298\n",
      "-- Epoch 26\n",
      "Training MSE: 0.50266\n",
      "-- Epoch 27\n",
      "Training MSE: 0.50304\n",
      "-- Epoch 28\n",
      "Training MSE: 0.50400\n",
      "-- Epoch 29\n",
      "Training MSE: 0.50413\n",
      "-- Epoch 30\n",
      "Training MSE: 0.50336\n",
      "-- Epoch 31\n",
      "Training MSE: 0.50342\n",
      "-- Epoch 32\n",
      "Training MSE: 0.50322\n",
      "-- Epoch 33\n",
      "Training MSE: 0.50316\n",
      "-- Epoch 34\n",
      "Training MSE: 0.50320\n",
      "-- Epoch 35\n",
      "Training MSE: 0.50341\n",
      "-- Epoch 36\n",
      "Training MSE: 0.50355\n",
      "-- Epoch 37\n",
      "Training MSE: 0.50367\n",
      "-- Epoch 38\n",
      "Training MSE: 0.50337\n",
      "-- Epoch 39\n",
      "Training MSE: 0.50362\n",
      "-- Epoch 40\n",
      "Training MSE: 0.50345\n",
      "-- Epoch 41\n",
      "Training MSE: 0.50340\n",
      "-- Epoch 42\n",
      "Training MSE: 0.50379\n",
      "-- Epoch 43\n",
      "Training MSE: 0.50378\n",
      "-- Epoch 44\n",
      "Training MSE: 0.50390\n",
      "-- Epoch 45\n",
      "Training MSE: 0.50391\n",
      "-- Epoch 46\n",
      "Training MSE: 0.50409\n",
      "-- Epoch 47\n",
      "Training MSE: 0.50400\n",
      "-- Epoch 48\n",
      "Training MSE: 0.50441\n",
      "-- Epoch 49\n",
      "Training MSE: 0.50441\n",
      "-- Epoch 50\n",
      "Training MSE: 0.50459\n"
     ]
    }
   ],
   "source": [
    "fm_cb = pylibfm.FM(num_factors=k,\n",
    "                num_iter=n_epochs,\n",
    "                verbose=True,\n",
    "                task=\"regression\",\n",
    "                initial_learning_rate=0.001,\n",
    "                learning_rate_schedule=\"optimal\",\n",
    "                seed=random_seed)\n",
    "fm_cb.fit(X_train, y_train)"
   ]
  },
  {
   "cell_type": "code",
   "execution_count": 38,
   "metadata": {},
   "outputs": [],
   "source": [
    "y_pred = fm_cb.predict(X_test)"
   ]
  },
  {
   "cell_type": "markdown",
   "metadata": {},
   "source": [
    "$MSE$"
   ]
  },
  {
   "cell_type": "code",
   "execution_count": 39,
   "metadata": {},
   "outputs": [
    {
     "data": {
      "text/plain": [
       "1.041548679956183"
      ]
     },
     "execution_count": 39,
     "metadata": {},
     "output_type": "execute_result"
    }
   ],
   "source": [
    "mean_squared_error(y_test, y_pred)"
   ]
  },
  {
   "cell_type": "markdown",
   "metadata": {},
   "source": [
    "$MAE$"
   ]
  },
  {
   "cell_type": "code",
   "execution_count": 40,
   "metadata": {},
   "outputs": [
    {
     "data": {
      "text/plain": [
       "0.8263579521053876"
      ]
     },
     "execution_count": 40,
     "metadata": {},
     "output_type": "execute_result"
    }
   ],
   "source": [
    "mean_absolute_error(y_test, y_pred)"
   ]
  },
  {
   "cell_type": "markdown",
   "metadata": {},
   "source": [
    "### Hybrid: Content-based and Collaborative Filtering for Rating Prediction"
   ]
  },
  {
   "cell_type": "markdown",
   "metadata": {},
   "source": [
    "This is our first hybrid recommender algorithm as it combines both, collaborative, i.e. behavioral information, with content information, i.e. user/item features.\n",
    "\n",
    "We implement this by augmenting the design matrices $X_{train}$ and $X_{test}$ with one-hot encoded representations of user-item ids."
   ]
  },
  {
   "cell_type": "code",
   "execution_count": 41,
   "metadata": {},
   "outputs": [],
   "source": [
    "# Subtract 1 to turn 1-base-indexed into 0-base-indexed IDs for 0-base-indexed array\n",
    "user_cf_feat_train = one_hot_encode_ids(data.train_ratings.user.values-1, data.n_users)\n",
    "user_cf_feat_test = one_hot_encode_ids(data.test_ratings.user.values-1, data.n_users)\n",
    "item_cf_feat_train = one_hot_encode_ids(data.train_ratings.item.values-1, data.n_items)\n",
    "item_cf_feat_test = one_hot_encode_ids(data.test_ratings.item.values-1, data.n_items)"
   ]
  },
  {
   "cell_type": "code",
   "execution_count": 42,
   "metadata": {},
   "outputs": [],
   "source": [
    "# concatenate user and item content information\n",
    "# and user and item collaborative information to form design matrices\n",
    "# and convert to sparse matrix in Compressed Sparse Row (CSR) format\n",
    "X_train = np.concatenate((user_cb_feat_train, item_cb_feat_train,\n",
    "                          user_cf_feat_train, item_cf_feat_train), axis=1)\n",
    "X_train = csr_matrix(X_train)\n",
    "X_test = np.concatenate((user_cb_feat_test, item_cb_feat_test,\n",
    "                         user_cf_feat_test, item_cf_feat_test), axis=1)\n",
    "X_test = csr_matrix(X_test)"
   ]
  },
  {
   "cell_type": "code",
   "execution_count": 48,
   "metadata": {},
   "outputs": [],
   "source": [
    "n_epochs = 50  # number of full stochastic passes through the training data\n",
    "k = 16"
   ]
  },
  {
   "cell_type": "code",
   "execution_count": 49,
   "metadata": {},
   "outputs": [
    {
     "name": "stdout",
     "output_type": "stream",
     "text": [
      "Creating validation dataset of 0.01 of training for adaptive regularization\n",
      "-- Epoch 1\n",
      "Training MSE: 0.54297\n",
      "-- Epoch 2\n",
      "Training MSE: 0.47172\n",
      "-- Epoch 3\n",
      "Training MSE: 0.44934\n",
      "-- Epoch 4\n",
      "Training MSE: 0.43755\n",
      "-- Epoch 5\n",
      "Training MSE: 0.42993\n",
      "-- Epoch 6\n",
      "Training MSE: 0.42259\n",
      "-- Epoch 7\n",
      "Training MSE: 0.41720\n",
      "-- Epoch 8\n",
      "Training MSE: 0.41216\n",
      "-- Epoch 9\n",
      "Training MSE: 0.40788\n",
      "-- Epoch 10\n",
      "Training MSE: 0.40411\n",
      "-- Epoch 11\n",
      "Training MSE: 0.39952\n",
      "-- Epoch 12\n",
      "Training MSE: 0.39591\n",
      "-- Epoch 13\n",
      "Training MSE: 0.39292\n",
      "-- Epoch 14\n",
      "Training MSE: 0.38963\n",
      "-- Epoch 15\n",
      "Training MSE: 0.38677\n",
      "-- Epoch 16\n",
      "Training MSE: 0.38350\n",
      "-- Epoch 17\n",
      "Training MSE: 0.38109\n",
      "-- Epoch 18\n",
      "Training MSE: 0.37831\n",
      "-- Epoch 19\n",
      "Training MSE: 0.37577\n",
      "-- Epoch 20\n",
      "Training MSE: 0.37345\n",
      "-- Epoch 21\n",
      "Training MSE: 0.37100\n",
      "-- Epoch 22\n",
      "Training MSE: 0.36897\n",
      "-- Epoch 23\n",
      "Training MSE: 0.36668\n",
      "-- Epoch 24\n",
      "Training MSE: 0.36484\n",
      "-- Epoch 25\n",
      "Training MSE: 0.36295\n",
      "-- Epoch 26\n",
      "Training MSE: 0.36084\n",
      "-- Epoch 27\n",
      "Training MSE: 0.35894\n",
      "-- Epoch 28\n",
      "Training MSE: 0.35729\n",
      "-- Epoch 29\n",
      "Training MSE: 0.35644\n",
      "-- Epoch 30\n",
      "Training MSE: 0.35389\n",
      "-- Epoch 31\n",
      "Training MSE: 0.35288\n",
      "-- Epoch 32\n",
      "Training MSE: 0.35108\n",
      "-- Epoch 33\n",
      "Training MSE: 0.34961\n",
      "-- Epoch 34\n",
      "Training MSE: 0.34770\n",
      "-- Epoch 35\n",
      "Training MSE: 0.34743\n",
      "-- Epoch 36\n",
      "Training MSE: 0.34619\n",
      "-- Epoch 37\n",
      "Training MSE: 0.34480\n",
      "-- Epoch 38\n",
      "Training MSE: 0.34423\n",
      "-- Epoch 39\n",
      "Training MSE: 0.34278\n",
      "-- Epoch 40\n",
      "Training MSE: 0.34205\n",
      "-- Epoch 41\n",
      "Training MSE: 0.34082\n",
      "-- Epoch 42\n",
      "Training MSE: 0.33976\n",
      "-- Epoch 43\n",
      "Training MSE: 0.33906\n",
      "-- Epoch 44\n",
      "Training MSE: 0.33803\n",
      "-- Epoch 45\n",
      "Training MSE: 0.33782\n",
      "-- Epoch 46\n",
      "Training MSE: 0.33747\n",
      "-- Epoch 47\n",
      "Training MSE: 0.33656\n",
      "-- Epoch 48\n",
      "Training MSE: 0.33574\n",
      "-- Epoch 49\n",
      "Training MSE: 0.33466\n",
      "-- Epoch 50\n",
      "Training MSE: 0.33390\n"
     ]
    }
   ],
   "source": [
    "fm_hybrid = pylibfm.FM(num_factors=k,\n",
    "                num_iter=n_epochs,\n",
    "                verbose=True,\n",
    "                task=\"regression\",\n",
    "                initial_learning_rate=0.001,\n",
    "                learning_rate_schedule=\"optimal\")\n",
    "fm_hybrid.fit(X_train, y_train)"
   ]
  },
  {
   "cell_type": "code",
   "execution_count": 45,
   "metadata": {},
   "outputs": [],
   "source": [
    "y_pred = fm_hybrid.predict(X_test)"
   ]
  },
  {
   "cell_type": "markdown",
   "metadata": {},
   "source": [
    "$MSE$"
   ]
  },
  {
   "cell_type": "code",
   "execution_count": 46,
   "metadata": {},
   "outputs": [
    {
     "data": {
      "text/plain": [
       "0.8622595008465794"
      ]
     },
     "execution_count": 46,
     "metadata": {},
     "output_type": "execute_result"
    }
   ],
   "source": [
    "mean_squared_error(y_test, y_pred)"
   ]
  },
  {
   "cell_type": "markdown",
   "metadata": {},
   "source": [
    "$MAE$"
   ]
  },
  {
   "cell_type": "code",
   "execution_count": 47,
   "metadata": {},
   "outputs": [
    {
     "data": {
      "text/plain": [
       "0.7267606055164346"
      ]
     },
     "execution_count": 47,
     "metadata": {},
     "output_type": "execute_result"
    }
   ],
   "source": [
    "mean_absolute_error(y_test, y_pred)"
   ]
  },
  {
   "cell_type": "markdown",
   "metadata": {},
   "source": [
    "### Ranking Evaluation"
   ]
  },
  {
   "cell_type": "code",
   "execution_count": 120,
   "metadata": {},
   "outputs": [],
   "source": [
    "N = 10"
   ]
  },
  {
   "cell_type": "markdown",
   "metadata": {},
   "source": [
    "* evaluate against ranking criteria (MRR, MAP) using the rating predictions to impose a ranking on items for a given user (see kNN rating prediction)"
   ]
  },
  {
   "cell_type": "code",
   "execution_count": 92,
   "metadata": {},
   "outputs": [],
   "source": [
    "user_train_ratings = {}\n",
    "\n",
    "grouped = data.train_ratings[['user', 'item', 'rating']].groupby('user')\n",
    "for user in data.users:\n",
    "    vals = grouped.get_group(user)[['item', 'rating']].values\n",
    "    user_train_ratings[user] = dict(zip(vals[:, 0].astype(int),\n",
    "                                        vals[:, 1].astype(float)))"
   ]
  },
  {
   "cell_type": "code",
   "execution_count": 106,
   "metadata": {},
   "outputs": [],
   "source": [
    "def get_prediction(fm: object, user: int, users: pd.DataFrame, items: pd.DataFrame) -> Dict[int, Dict[str, float]]:\n",
    "    n_items = len(items)\n",
    "    n_users = len(users)\n",
    "    \n",
    "    single_user_cb_feat = users.loc[user].values.reshape(1, -1).repeat(n_items, axis=0)\n",
    "    all_items_cb_feat = items.values\n",
    "    single_user_cf_feat = np.zeros((n_items, n_users))\n",
    "    single_user_cf_feat[:, user-1] = 1\n",
    "    all_items_cf_feat = np.eye(n_items)\n",
    "    \n",
    "    input_data = np.concatenate((single_user_cb_feat, all_items_cb_feat,\n",
    "                                 single_user_cf_feat, all_items_cf_feat), axis=1)\n",
    "    input_data = csr_matrix(input_data)\n",
    "    \n",
    "    preds = fm.predict(input_data)\n",
    "    sorting = np.argsort(pred)[::-1]\n",
    "    \n",
    "    preds = {item: {'pred': pred} for item, pred in\n",
    "                 zip(items.index.values[sorting], preds[sorting])}\n",
    "    \n",
    "    return preds"
   ]
  },
  {
   "cell_type": "code",
   "execution_count": 113,
   "metadata": {},
   "outputs": [],
   "source": [
    "def get_recommendations(fm: object, user: int, user_train_ratings: dict, N: int, users: pd.DataFrame, items: pd.DataFrame):\n",
    "    known_items = list(user_train_ratings[user].keys())\n",
    "    predictions = get_prediction(fm, user, users, items)\n",
    "    recommendations = []\n",
    "    for item, pred in predictions.items():\n",
    "        if item not in known_items:\n",
    "            add_item = (item, pred)\n",
    "            recommendations.append(add_item)\n",
    "        if len(recommendations) == N:\n",
    "            break\n",
    "            \n",
    "    return recommendations"
   ]
  },
  {
   "cell_type": "code",
   "execution_count": 116,
   "metadata": {},
   "outputs": [],
   "source": [
    "preds = get_prediction(fm_hybrid, 1, users, items)"
   ]
  },
  {
   "cell_type": "code",
   "execution_count": 114,
   "metadata": {},
   "outputs": [],
   "source": [
    "recs = get_recommendations(fm_hybrid, 1, user_train_ratings, N=N, users=users, items=items)"
   ]
  },
  {
   "cell_type": "code",
   "execution_count": 121,
   "metadata": {},
   "outputs": [],
   "source": [
    "test_ratings = data.test_ratings"
   ]
  },
  {
   "cell_type": "markdown",
   "metadata": {},
   "source": [
    "#### Evaluation of Ranking Metrics for Hybrid Recommender"
   ]
  },
  {
   "cell_type": "code",
   "execution_count": null,
   "metadata": {},
   "outputs": [],
   "source": [
    "recommender = fm_hybrid"
   ]
  },
  {
   "cell_type": "code",
   "execution_count": 122,
   "metadata": {},
   "outputs": [
    {
     "data": {
      "text/plain": [
       "0.03904255319148937"
      ]
     },
     "execution_count": 122,
     "metadata": {},
     "output_type": "execute_result"
    }
   ],
   "source": [
    "metric = 'map'\n",
    "user_scores = []\n",
    "relevant_items = get_relevant_items(test_ratings)\n",
    "\n",
    "for user in data.users:\n",
    "    if user in relevant_items.keys():\n",
    "        predicted_items = get_recommendations(recommender, user, user_train_ratings, N, users, items)\n",
    "        predicted_items = [item for item, _ in predicted_items]\n",
    "        if metric == 'map':\n",
    "            true_positives = np.intersect1d(relevant_items[user],\n",
    "                                            predicted_items)\n",
    "            score = len(true_positives) / N\n",
    "        elif metric == 'mrr':\n",
    "            score = np.mean([reciprocal_rank(item, predicted_items)\n",
    "                             for item in relevant_items[user]])\n",
    "        else:\n",
    "            raise ValueError(f\"Unknown value {metric} for Argument `metric`\")\n",
    "\n",
    "        user_scores.append(score)\n",
    "\n",
    "np.mean(user_scores)"
   ]
  },
  {
   "cell_type": "code",
   "execution_count": 123,
   "metadata": {},
   "outputs": [
    {
     "data": {
      "text/plain": [
       "0.00586257796559588"
      ]
     },
     "execution_count": 123,
     "metadata": {},
     "output_type": "execute_result"
    }
   ],
   "source": [
    "metric = 'mrr'\n",
    "user_scores = []\n",
    "relevant_items = get_relevant_items(test_ratings)\n",
    "\n",
    "for user in data.users:\n",
    "    if user in relevant_items.keys():\n",
    "        predicted_items = get_recommendations(recommender, user, user_train_ratings, N, users, items)\n",
    "        predicted_items = [item for item, _ in predicted_items]\n",
    "        if metric == 'map':\n",
    "            true_positives = np.intersect1d(relevant_items[user],\n",
    "                                            predicted_items)\n",
    "            score = len(true_positives) / N\n",
    "        elif metric == 'mrr':\n",
    "            score = np.mean([reciprocal_rank(item, predicted_items)\n",
    "                             for item in relevant_items[user]])\n",
    "        else:\n",
    "            raise ValueError(f\"Unknown value {metric} for Argument `metric`\")\n",
    "\n",
    "        user_scores.append(score)\n",
    "\n",
    "np.mean(user_scores)"
   ]
  },
  {
   "cell_type": "markdown",
   "metadata": {},
   "source": [
    "#### Evaluation of Ranking Metrics for Content-based Recommender"
   ]
  },
  {
   "cell_type": "code",
   "execution_count": 126,
   "metadata": {},
   "outputs": [],
   "source": [
    "recommender = fm_cb"
   ]
  },
  {
   "cell_type": "code",
   "execution_count": 127,
   "metadata": {},
   "outputs": [
    {
     "data": {
      "text/plain": [
       "0.03904255319148937"
      ]
     },
     "execution_count": 127,
     "metadata": {},
     "output_type": "execute_result"
    }
   ],
   "source": [
    "metric = 'map'\n",
    "user_scores = []\n",
    "relevant_items = get_relevant_items(test_ratings)\n",
    "\n",
    "for user in data.users:\n",
    "    if user in relevant_items.keys():\n",
    "        predicted_items = get_recommendations(recommender, user, user_train_ratings, N, users, items)\n",
    "        predicted_items = [item for item, _ in predicted_items]\n",
    "        if metric == 'map':\n",
    "            true_positives = np.intersect1d(relevant_items[user],\n",
    "                                            predicted_items)\n",
    "            score = len(true_positives) / N\n",
    "        elif metric == 'mrr':\n",
    "            score = np.mean([reciprocal_rank(item, predicted_items)\n",
    "                             for item in relevant_items[user]])\n",
    "        else:\n",
    "            raise ValueError(f\"Unknown value {metric} for Argument `metric`\")\n",
    "\n",
    "        user_scores.append(score)\n",
    "\n",
    "np.mean(user_scores)"
   ]
  },
  {
   "cell_type": "code",
   "execution_count": 128,
   "metadata": {},
   "outputs": [
    {
     "data": {
      "text/plain": [
       "0.00586257796559588"
      ]
     },
     "execution_count": 128,
     "metadata": {},
     "output_type": "execute_result"
    }
   ],
   "source": [
    "metric = 'mrr'\n",
    "user_scores = []\n",
    "relevant_items = get_relevant_items(test_ratings)\n",
    "\n",
    "for user in data.users:\n",
    "    if user in relevant_items.keys():\n",
    "        predicted_items = get_recommendations(recommender, user, user_train_ratings, N, users, items)\n",
    "        predicted_items = [item for item, _ in predicted_items]\n",
    "        if metric == 'map':\n",
    "            true_positives = np.intersect1d(relevant_items[user],\n",
    "                                            predicted_items)\n",
    "            score = len(true_positives) / N\n",
    "        elif metric == 'mrr':\n",
    "            score = np.mean([reciprocal_rank(item, predicted_items)\n",
    "                             for item in relevant_items[user]])\n",
    "        else:\n",
    "            raise ValueError(f\"Unknown value {metric} for Argument `metric`\")\n",
    "\n",
    "        user_scores.append(score)\n",
    "\n",
    "np.mean(user_scores)"
   ]
  },
  {
   "cell_type": "markdown",
   "metadata": {},
   "source": [
    "* wrap into Recommender class\n",
    "\n",
    "* perform and compare for CB and hybrid cases\n",
    "* draw chart"
   ]
  }
 ],
 "metadata": {
  "kernelspec": {
   "display_name": "Python 3",
   "language": "python",
   "name": "python3"
  },
  "language_info": {
   "codemirror_mode": {
    "name": "ipython",
    "version": 3
   },
   "file_extension": ".py",
   "mimetype": "text/x-python",
   "name": "python",
   "nbconvert_exporter": "python",
   "pygments_lexer": "ipython3",
   "version": "3.7.5"
  }
 },
 "nbformat": 4,
 "nbformat_minor": 4
}
